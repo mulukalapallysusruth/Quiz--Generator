{
 "cells": [
  {
   "cell_type": "code",
   "execution_count": 2,
   "metadata": {},
   "outputs": [
    {
     "name": "stdout",
     "output_type": "stream",
     "text": [
      "ok\n"
     ]
    }
   ],
   "source": [
    "print(\"ok\")"
   ]
  },
  {
   "cell_type": "code",
   "execution_count": 3,
   "metadata": {},
   "outputs": [],
   "source": [
    "import os\n",
    "from dotenv import load_dotenv"
   ]
  },
  {
   "cell_type": "code",
   "execution_count": 4,
   "metadata": {},
   "outputs": [],
   "source": [
    "load_dotenv()\n",
    "OPENAI_API_KEY = os.getenv(\"OPENAI_API_KEY\")\n",
    "\n"
   ]
  },
  {
   "cell_type": "code",
   "execution_count": 5,
   "metadata": {},
   "outputs": [],
   "source": [
    "os.environ[\"OPENAI_API_KEY\"]= OPENAI_API_KEY"
   ]
  },
  {
   "cell_type": "code",
   "execution_count": 6,
   "metadata": {},
   "outputs": [],
   "source": [
    "from langchain.document_loaders import PyPDFLoader"
   ]
  },
  {
   "cell_type": "code",
   "execution_count": 7,
   "metadata": {},
   "outputs": [
    {
     "data": {
      "text/plain": [
       "'e:\\\\generative AI\\\\quiz generator\\\\Quiz--Generator\\\\research'"
      ]
     },
     "execution_count": 7,
     "metadata": {},
     "output_type": "execute_result"
    }
   ],
   "source": [
    "%pwd"
   ]
  },
  {
   "cell_type": "code",
   "execution_count": 8,
   "metadata": {},
   "outputs": [
    {
     "name": "stdout",
     "output_type": "stream",
     "text": [
      "e:\\generative AI\\quiz generator\\Quiz--Generator\n"
     ]
    }
   ],
   "source": [
    "%cd .."
   ]
  },
  {
   "cell_type": "code",
   "execution_count": 9,
   "metadata": {},
   "outputs": [],
   "source": [
    "file_path = \"Data/MACHINE LEARNING.pdf\"\n",
    "loader = PyPDFLoader(file_path)\n",
    "data = loader.load()\n",
    "\n",
    "                   "
   ]
  },
  {
   "cell_type": "code",
   "execution_count": 10,
   "metadata": {},
   "outputs": [
    {
     "data": {
      "text/plain": [
       "[Document(metadata={'source': 'Data/MACHINE LEARNING.pdf', 'page': 0}, page_content=' \\nProprietary content. All rights reserved. Unauthorized use or distribution prohibited.   \\n \\n \\n \\n \\n \\n \\n \\n \\n \\n \\n \\n \\n \\n \\n \\nSelf-Learning Material  \\n \\n \\nProgram: MCA  \\nSpecialization: Artificial Intelligence  \\nSemester: 2 \\nCourse Name: Predictive Analytics using Machine Learning  \\nCourse Code: 21VMC6S205  \\nUnit Name : Introduction t o Machine Learning  \\n \\n \\n \\n \\n \\n \\n \\n  \\n'),\n",
       " Document(metadata={'source': 'Data/MACHINE LEARNING.pdf', 'page': 1}, page_content=' \\nProprietary content. All rights reserved. Unauthorized use or distribution prohibited.   \\nSELF LEARNING MATERIAL  \\nUNIT 03 : INTRODUCTION TO MACHINE LEARNING  \\nOVERVIEW  \\n \\n \\n \\n \\nOBJECTIVES   \\n In this unit you will learn  \\n1. WHAT IS MACHINE LEARNING  \\n2. AI vs ML vs DL  \\n3. SIGNIFICANCE OF ML  \\n4. STATISTICS  \\n5. TYPES OF STATISTICS  \\nLEARNING OUTCOMES  \\nAt the end of the unit you would  \\n\\uf0b7 A basic understanding of machine learning  \\n\\uf0b7 How is machine learning different from other concepts  \\n\\uf0b7 Statistics and its types  \\nTABLE OF TOPICS  \\n3.1 Machine learning introduction  \\n3.1.1 ML vs DL  \\n3.1.2 ML vs AI  \\n3.1.3 ML vs Convenetinal programming  \\n3.2 Statistics  \\n3.2.1 descriptive statistics  \\n1. measure of central tendancy  \\n1.1 mean \\n1.2 mode  \\n1.3 median  \\n2. measure of variability  \\n2.1 range  \\n2.2 SD \\n2.3 Variance  \\n3.2.2 inferential statistics  Machine learning – introduction,significance,use cases ; AI : DEEP LEARNING: MACHINE LEARNING -\\ndefinition,differences ;Statistics – definition, example ,Types of statistics – inferential and descriptive \\nstatistics -range,mean,mode,SD,variance,median.  \\n '),\n",
       " Document(metadata={'source': 'Data/MACHINE LEARNING.pdf', 'page': 2}, page_content=' \\nProprietary content. All rights reserved. Unauthorized use or distribution prohibited.   \\n   \\nINTRODUCTION TO MACHINE LEARNING  \\n \\nMACHINE LEARNING  \\nA machine is a thing that is created by people to make work easier.  A tool or invention \\nmultiplies the effect of human effort.  A machine when invented reduced the human \\nintelligence.  \\nA learning is defined as the acquisition of knowledge or skills through study, experience, or \\nbeing taught.   \\nNow, machine learning can be defined as the machine which was invented by human to reduce \\ntheir work is being made to learn and acquire the required knowledge through experience or \\nbeing taught by which it does some function with help of an algorithm is know as machine \\nlearning. The algorithm by which it does some function is called a ma chine learning algorithm.  \\nFor example, let us consider the case where there are people in the area where few likes spicy \\nflavored food and few likes less spicy flavor and some may even dislike the spicy flavored food. \\nBy taking a survey and with the collec ted data a graph is being plotted where the points in blue \\ncolor are the people who likes the spicy flavor in the food and had given high rating for the \\nfood. And the brown points are given by people who dislikes or shown less likings than others \\ntowards t he spicy flavored food.  \\n \\n'),\n",
       " Document(metadata={'source': 'Data/MACHINE LEARNING.pdf', 'page': 3}, page_content=' \\nProprietary content. All rights reserved. Unauthorized use or distribution prohibited.  The points that are closer and falls under the category of ‘liking and high rating’ are grouped \\ntogether which means any points that lies under that category is considered that the person \\nhas liking towards the flavor of food. The  points that fall under the category of ‘low rating and \\nless liking’ would be considered as the other category.  \\nNow, with this category when a new person is added to the mass and when the survey is again \\ntaken and those points are being marked, now the ana lysis can be easily made and the \\nrestaurants to be opened in that area can make dishes accordingly to grow their business \\naccording to the people’s choice of taste.  \\nSo, if the area people on high range has shown interest towards high spicy foods then the \\nrestaurants can cook food which are spicy and if the area people had shown interest to less \\nspicy food then the restaurant can cook food accordingly and alter their food in their menu  \\nThis is one such case where machine learning can be applied and is useful  to grow a business \\nand improve the growth.  \\n \\n \\n \\nNow, the circle is drawn around the points for a minimum nearby distance to understand the \\nrelation which is a famous machine learning algorithm K -means , by using this algorithm we can \\nnow predict that the p erson whose point is depicted as purple falls under ‘disliking spicy food’ \\nas the number of points lying near that point is of those who has given less rating for the spicy \\nflavored food.  \\n \\n'),\n",
       " Document(metadata={'source': 'Data/MACHINE LEARNING.pdf', 'page': 4}, page_content=' \\nProprietary content. All rights reserved. Unauthorized use or distribution prohibited.  Hence, by using this we can predict the needed outcome.  \\n \\nMACHINE LE ARNING SIGNIFICANCE  \\nMachine learning as said simplifies a large problem, thereby reducing the human intervention and \\nhandles to solve the problem at ease.  Some of the major problems were solved by applying machine -\\nlearning  concepts and advancements has be en done in many field.  \\nFor example, fraud detection which required human intelligence but now using the machine -learning \\nalgorithm the fraud detection is done efficiently than human. For  this  it requires a dataset and a \\nmachine -learning algorithm by which a machine learning model can be built to predict the output.  \\nWhen it comes to machine learning the system is doing the job of human, and how does the system \\ndoes this? Whether it is being tra ined or is it being dictated to do?. So, for this question the machine \\nlearning can be categorized into below methods of learning .  \\n1. SUPERVISED LEARNING  \\n2. UNSUPERVISED LEARNING  \\n3. SEMI - SUPERVISED LEARNING  \\n4. REINFORCEMENT LEARNING  \\nWhen is machine learning is being  useful?  \\nThe machine learning concept is used in many fields some are being listed  \\nHEALTH CARE:  Now, it is possible to pred ict the heart attack death rate, birth rate in an area and many \\nsuch useful insights which can help to take necessary actions based o n the outcome.  \\nEDUCATION: To analyze the performance of the students, and to predict the results in the forth coming \\nyear with the past history datasets.  \\nFINANCIAL SERVICES: Fraud detection, loan prediction and all such analysis can be made to enhance the \\nrespective fields using machine learning algorithm.  \\nHow is machine learning different from AI and Deep learning?  '),\n",
       " Document(metadata={'source': 'Data/MACHINE LEARNING.pdf', 'page': 5}, page_content=' \\nProprietary content. All rights reserved. Unauthorized use or distribution prohibited.   \\n \\n \\n \\n \\n \\n \\n \\n \\n \\n \\n \\nMACHINE LEARNING VS DEEP LEARNING  \\nDeep learning algorithms can be regarded both as a sophisticated and mathematically complex \\nevolution of machine learning algorithms. Deep learning describes algorithms that analyze data \\nwith a logic structure similar to how a human would draw conclusions.  \\n\\uf0b7 Deep learning is a specialized subset of machine learning.  \\n\\uf0b7 Deep learning relies on a layered structure of algorithms called an artificial neural \\nnetwork.  \\n\\uf0b7 Deep learning has huge data needs but requires little human intervention to function \\nproperly.  \\n\\uf0b7 Transfer learning is a cure for the needs of large training datasets.  \\n \\n \\n \\n \\n \\n \\nIn the above given exam ple ,  \\nFeature extraction refers to the  process of transforming raw data into numerical features  that \\ncan be processed while preserving the information in the original data set  \\nMACHINE LEARNING VS ARTIFICIAL INTELLIGENCE  \\n'),\n",
       " Document(metadata={'source': 'Data/MACHINE LEARNING.pdf', 'page': 6}, page_content=' \\nProprietary content. All rights reserved. Unauthorized use or distribution prohibited.  AI solves tasks that require human intelligence while ML is a subset of artificial intelligence that \\nsolves specific tasks by learning from data and making predictions. Artificial intelligence is a \\ntechnology which enables a machine to simulate human behavior. Machine learning is a subset \\nof AI which allows a machine to automatically learn from past data without programming \\nexplicitly.  AI system is concerned about maximizing the chances of success. Machine learning is \\nmainly concerned about accuracy and patterns.  \\n \\n \\n \\n \\n \\n \\n \\n \\nCONVENTIONAL PROGRA MMING METHODS  \\nConventional programming is a manual process, which means the programmer creates the logic \\nof the program.  Conventional Programming  uses conventional procedural language. It could be \\nassembly language or a high -level language such as C, C++, Java, JavaScript, Python, etc. \\nConventional programming is a manual process, which means the programmer creates the logic \\nof the program.  \\nHere the programmer gives the input and creates the logic for which the output is generated  \\nHow is machine learning different from Conventional method ? \\n \\n \\n \\n \\n \\n \\n \\n \\n \\n \\n'),\n",
       " Document(metadata={'source': 'Data/MACHINE LEARNING.pdf', 'page': 7}, page_content=' \\nProprietary content. All rights reserved. Unauthorized use or distribution prohibited.  In conventional programming, a programmer needs to hard code the logic of the program. In \\nmachine learning, it depends a lot on the machine which learns from input data.  The computer \\nsystems  use these statistical models to perform a specific task effectively. Here you don’t need \\nto provide explicit instructions; instead, it relies on  patterns  and inference.  \\nFor example let us consider a scenario where a person wins if he scores above 10 0 and losses of \\nhe scores below 100, for this in conventional programming the programmer writes the logic of \\nthe code and an input is given to get desired output  \\nIn machine learning, a dataset containing of the numbers with output is fitted and trained wit h \\na machine learning algorithm after with a model is trained to predict whatever input is given to \\npredict the output.  \\nUnlike traditional programming, machine learning is an automated process. It  can increase the \\nvalue of your embedded analytics in many areas, including data prep, natural language \\ninterfaces, automatic outlier detection, recommendations, and causality and significance \\ndetection.  \\n \\n \\nSTATISTICS  \\n Statistics is the science concerned with developing and studying methods for collecting, \\nanalyzi ng, interpreting and presenting data. Statistical measure are mean, mode, range, and \\nstandard deviation.  Statistics is a tool that helps us to extract information and knowledge from \\ndata.  \\nFor example In a classroom there can be many students, and to analyz e the performance of the \\nstudent and make useful insights we can use statistics.  \\nStatistics in machine learning can be classified based on the steps,  \\nSTATISTICS IN DATA PREPARATION  \\nA basic understanding of data distributions, descriptive statistics, and da ta visualization is \\nrequired to help you identify the methods to choose when performing these tasks.  \\nSTATISTICS IN MODEL EVALUATION  \\nStatistical methods are required when evaluating the skill of a machine learning model on data \\nnot seen during training.  \\nSTATISTICS IN MODEL PREDICTION  \\nStatistical methods are required when presenting the skill of a final model to stakeholder. This \\nmight include estimation statistics such as prediction intervals.  \\nStatistics can be broadly classified into  '),\n",
       " Document(metadata={'source': 'Data/MACHINE LEARNING.pdf', 'page': 8}, page_content=' \\nProprietary content. All rights reserved. Unauthorized use or distribution prohibited.  Descriptive Statistics:  Descriptive statistics refer to methods for summarizing raw observations \\ninto information that we can understand and share.  \\nInferential Statistics: Inferential statistics is a fancy name for methods that aid in quantifying \\nproperties of the domain or popu lation from a smaller set of obtained observations called a \\nsample.  \\n \\n \\n \\n \\n \\n \\n \\n \\n \\n \\nDESCRIPTIVE STATISTICS  \\n Descriptive statistics mainly deals with two factors namely,  \\n1. Measure of central tendencies  \\n2. Measure of variability  \\nMEASURE OF CENTRAL TENDANCY  \\n The measure of central tendency calculates a single value that describes the set of data by \\nidentifying the central position within the set of data. The valid measures of central tendency are,  \\n1. MEAN  \\n2. MODE  \\n3. MEDIAN  \\n'),\n",
       " Document(metadata={'source': 'Data/MACHINE LEARNING.pdf', 'page': 9}, page_content=' \\nProprietary content. All rights reserved. Unauthorized use or distribution prohibited.   \\n \\n \\nExample  \\n \\nLet us consider a set of data 2 ,3,4,4,6,7 as the data set of people in a family living in the area A. Now to \\ncalculate the mean, mode, and median.  \\nTo calculate mean, which is the arithmetic mean of the continuous data  \\n  2+3+4+4+6+7/6=4.333 is the mean value  \\n \\nTo calculate median, which is the middle value of the data set   we need to arrange the data set in order \\nand then calculate, since the data set is in order we can directly infer the median.  \\nSince there are two middle value 4 and 4 we need to add those and divide by 2 to find the med ian value.  \\n  4+4/2=4 is the median value of the data set  \\n \\nTo calculate mode, which shows the number that occurs frequently  \\n  The number 4 occurs frequently in the given data set hence  4 is the mode.  \\n'),\n",
       " Document(metadata={'source': 'Data/MACHINE LEARNING.pdf', 'page': 10}, page_content=' \\nProprietary content. All rights reserved. Unauthorized use or distribution prohibited.   \\n \\n \\n \\n \\n \\n \\n \\n \\n \\n \\nMEASURE OF VARIABLITY  \\nVariability in statist ics is the mathematical  measure  of the spread of a  data  set. Variability  describes how \\nfar apart  data  points lie from each other and from the center of a distribution.  Variability is measured on \\nbasis of,  \\n1. Range  \\n2. Standard deviation  \\n3. Variance  \\n \\nRANGE  \\nIn statistics, the range of a set of data is the difference between the largest and smallest values. \\nDifference here is specific, the range of a set of data is the result of subtracting the sample maximum \\nand minimum . \\n \\n \\n \\n \\n \\n \\n \\n \\n \\nRANGE = MAXIMUM VALUE -MINIMUM VALUE  \\n'),\n",
       " Document(metadata={'source': 'Data/MACHINE LEARNING.pdf', 'page': 11}, page_content=' \\nProprietary content. All rights reserved. Unauthorized use or distribution prohibited.  STANDARD DEVIATION  \\n the standard deviation is a measure of the amount of variation or dispersion of a set of values.   \\n \\n           DATA   STANDARD DEVIATION  \\nS.D = √ (DATA -MEAN)/N  \\n           3    3-4        -1  \\n           3    3-4   -1 √ (-1+(-1)+0+2 ) \\n           4 \\n \\n           4    4-4    0 = √0=0 \\n           6    6-4    2  \\n \\nVARIANCE  \\nvariance is the expectation of the squared deviation of a random variable from its population mean or \\nsample mean.  \\n \\n \\n \\n \\n \\n \\n \\n \\n \\n \\n \\n \\n'),\n",
       " Document(metadata={'source': 'Data/MACHINE LEARNING.pdf', 'page': 12}, page_content=' \\nProprietary content. All rights reserved. Unauthorized use or distribution prohibited.  INFERENTIAL STATISTICS  \\n This takes data from a sample and makes inferences and predictions about the larger population \\nfrom which sample is drawn. It is difficult to analyze the entire data individually so we make inferential \\nstatistics to analyze a sample which is drawn from the popu lation and made some predictions.  \\n \\n \\n \\n \\n \\n \\n \\nMACHINE LEARNING VS STATISTICAL MODEL  \\nThe major difference between machine learning and statistics is their purpose. Machine \\nlearning  models are designed to make the most accurate predictions possible. Statistical \\nmodels are designed for inference about the relationships between variables  \\n \\n \\n    \\n \\n \\n \\n \\n \\n \\n \\n \\n \\n \\n \\n \\n'),\n",
       " Document(metadata={'source': 'Data/MACHINE LEARNING.pdf', 'page': 13}, page_content=' \\nProprietary content. All rights reserved. Unauthorized use or distribution prohibited.   \\nFORMULAS USED  \\n \\n \\n  \\n \\n \\n \\n \\n \\n \\n \\n  \\n \\n \\n \\n \\n \\n  \\n')]"
      ]
     },
     "execution_count": 10,
     "metadata": {},
     "output_type": "execute_result"
    }
   ],
   "source": [
    "data"
   ]
  },
  {
   "cell_type": "code",
   "execution_count": 11,
   "metadata": {},
   "outputs": [
    {
     "data": {
      "text/plain": [
       "14"
      ]
     },
     "execution_count": 11,
     "metadata": {},
     "output_type": "execute_result"
    }
   ],
   "source": [
    "len(data)"
   ]
  },
  {
   "cell_type": "code",
   "execution_count": 12,
   "metadata": {},
   "outputs": [],
   "source": [
    "quiz_gen = \"\"\n",
    "\n",
    "for page in data:\n",
    "    quiz_gen += page.page_content"
   ]
  },
  {
   "cell_type": "code",
   "execution_count": 13,
   "metadata": {},
   "outputs": [
    {
     "data": {
      "text/plain": [
       "' \\nProprietary content. All rights reserved. Unauthorized use or distribution prohibited.   \\n \\n \\n \\n \\n \\n \\n \\n \\n \\n \\n \\n \\n \\n \\n \\nSelf-Learning Material  \\n \\n \\nProgram: MCA  \\nSpecialization: Artificial Intelligence  \\nSemester: 2 \\nCourse Name: Predictive Analytics using Machine Learning  \\nCourse Code: 21VMC6S205  \\nUnit Name : Introduction t o Machine Learning  \\n \\n \\n \\n \\n \\n \\n \\n  \\n \\nProprietary content. All rights reserved. Unauthorized use or distribution prohibited.   \\nSELF LEARNING MATERIAL  \\nUNIT 03 : INTRODUCTION TO MACHINE LEARNING  \\nOVERVIEW  \\n \\n \\n \\n \\nOBJECTIVES   \\n In this unit you will learn  \\n1. WHAT IS MACHINE LEARNING  \\n2. AI vs ML vs DL  \\n3. SIGNIFICANCE OF ML  \\n4. STATISTICS  \\n5. TYPES OF STATISTICS  \\nLEARNING OUTCOMES  \\nAt the end of the unit you would  \\n\\uf0b7 A basic understanding of machine learning  \\n\\uf0b7 How is machine learning different from other concepts  \\n\\uf0b7 Statistics and its types  \\nTABLE OF TOPICS  \\n3.1 Machine learning introduction  \\n3.1.1 ML vs DL  \\n3.1.2 ML vs AI  \\n3.1.3 ML vs Convenetinal programming  \\n3.2 Statistics  \\n3.2.1 descriptive statistics  \\n1. measure of central tendancy  \\n1.1 mean \\n1.2 mode  \\n1.3 median  \\n2. measure of variability  \\n2.1 range  \\n2.2 SD \\n2.3 Variance  \\n3.2.2 inferential statistics  Machine learning – introduction,significance,use cases ; AI : DEEP LEARNING: MACHINE LEARNING -\\ndefinition,differences ;Statistics – definition, example ,Types of statistics – inferential and descriptive \\nstatistics -range,mean,mode,SD,variance,median.  \\n  \\nProprietary content. All rights reserved. Unauthorized use or distribution prohibited.   \\n   \\nINTRODUCTION TO MACHINE LEARNING  \\n \\nMACHINE LEARNING  \\nA machine is a thing that is created by people to make work easier.  A tool or invention \\nmultiplies the effect of human effort.  A machine when invented reduced the human \\nintelligence.  \\nA learning is defined as the acquisition of knowledge or skills through study, experience, or \\nbeing taught.   \\nNow, machine learning can be defined as the machine which was invented by human to reduce \\ntheir work is being made to learn and acquire the required knowledge through experience or \\nbeing taught by which it does some function with help of an algorithm is know as machine \\nlearning. The algorithm by which it does some function is called a ma chine learning algorithm.  \\nFor example, let us consider the case where there are people in the area where few likes spicy \\nflavored food and few likes less spicy flavor and some may even dislike the spicy flavored food. \\nBy taking a survey and with the collec ted data a graph is being plotted where the points in blue \\ncolor are the people who likes the spicy flavor in the food and had given high rating for the \\nfood. And the brown points are given by people who dislikes or shown less likings than others \\ntowards t he spicy flavored food.  \\n \\n \\nProprietary content. All rights reserved. Unauthorized use or distribution prohibited.  The points that are closer and falls under the category of ‘liking and high rating’ are grouped \\ntogether which means any points that lies under that category is considered that the person \\nhas liking towards the flavor of food. The  points that fall under the category of ‘low rating and \\nless liking’ would be considered as the other category.  \\nNow, with this category when a new person is added to the mass and when the survey is again \\ntaken and those points are being marked, now the ana lysis can be easily made and the \\nrestaurants to be opened in that area can make dishes accordingly to grow their business \\naccording to the people’s choice of taste.  \\nSo, if the area people on high range has shown interest towards high spicy foods then the \\nrestaurants can cook food which are spicy and if the area people had shown interest to less \\nspicy food then the restaurant can cook food accordingly and alter their food in their menu  \\nThis is one such case where machine learning can be applied and is useful  to grow a business \\nand improve the growth.  \\n \\n \\n \\nNow, the circle is drawn around the points for a minimum nearby distance to understand the \\nrelation which is a famous machine learning algorithm K -means , by using this algorithm we can \\nnow predict that the p erson whose point is depicted as purple falls under ‘disliking spicy food’ \\nas the number of points lying near that point is of those who has given less rating for the spicy \\nflavored food.  \\n \\n \\nProprietary content. All rights reserved. Unauthorized use or distribution prohibited.  Hence, by using this we can predict the needed outcome.  \\n \\nMACHINE LE ARNING SIGNIFICANCE  \\nMachine learning as said simplifies a large problem, thereby reducing the human intervention and \\nhandles to solve the problem at ease.  Some of the major problems were solved by applying machine -\\nlearning  concepts and advancements has be en done in many field.  \\nFor example, fraud detection which required human intelligence but now using the machine -learning \\nalgorithm the fraud detection is done efficiently than human. For  this  it requires a dataset and a \\nmachine -learning algorithm by which a machine learning model can be built to predict the output.  \\nWhen it comes to machine learning the system is doing the job of human, and how does the system \\ndoes this? Whether it is being tra ined or is it being dictated to do?. So, for this question the machine \\nlearning can be categorized into below methods of learning .  \\n1. SUPERVISED LEARNING  \\n2. UNSUPERVISED LEARNING  \\n3. SEMI - SUPERVISED LEARNING  \\n4. REINFORCEMENT LEARNING  \\nWhen is machine learning is being  useful?  \\nThe machine learning concept is used in many fields some are being listed  \\nHEALTH CARE:  Now, it is possible to pred ict the heart attack death rate, birth rate in an area and many \\nsuch useful insights which can help to take necessary actions based o n the outcome.  \\nEDUCATION: To analyze the performance of the students, and to predict the results in the forth coming \\nyear with the past history datasets.  \\nFINANCIAL SERVICES: Fraud detection, loan prediction and all such analysis can be made to enhance the \\nrespective fields using machine learning algorithm.  \\nHow is machine learning different from AI and Deep learning?   \\nProprietary content. All rights reserved. Unauthorized use or distribution prohibited.   \\n \\n \\n \\n \\n \\n \\n \\n \\n \\n \\n \\nMACHINE LEARNING VS DEEP LEARNING  \\nDeep learning algorithms can be regarded both as a sophisticated and mathematically complex \\nevolution of machine learning algorithms. Deep learning describes algorithms that analyze data \\nwith a logic structure similar to how a human would draw conclusions.  \\n\\uf0b7 Deep learning is a specialized subset of machine learning.  \\n\\uf0b7 Deep learning relies on a layered structure of algorithms called an artificial neural \\nnetwork.  \\n\\uf0b7 Deep learning has huge data needs but requires little human intervention to function \\nproperly.  \\n\\uf0b7 Transfer learning is a cure for the needs of large training datasets.  \\n \\n \\n \\n \\n \\n \\nIn the above given exam ple ,  \\nFeature extraction refers to the  process of transforming raw data into numerical features  that \\ncan be processed while preserving the information in the original data set  \\nMACHINE LEARNING VS ARTIFICIAL INTELLIGENCE  \\n \\nProprietary content. All rights reserved. Unauthorized use or distribution prohibited.  AI solves tasks that require human intelligence while ML is a subset of artificial intelligence that \\nsolves specific tasks by learning from data and making predictions. Artificial intelligence is a \\ntechnology which enables a machine to simulate human behavior. Machine learning is a subset \\nof AI which allows a machine to automatically learn from past data without programming \\nexplicitly.  AI system is concerned about maximizing the chances of success. Machine learning is \\nmainly concerned about accuracy and patterns.  \\n \\n \\n \\n \\n \\n \\n \\n \\nCONVENTIONAL PROGRA MMING METHODS  \\nConventional programming is a manual process, which means the programmer creates the logic \\nof the program.  Conventional Programming  uses conventional procedural language. It could be \\nassembly language or a high -level language such as C, C++, Java, JavaScript, Python, etc. \\nConventional programming is a manual process, which means the programmer creates the logic \\nof the program.  \\nHere the programmer gives the input and creates the logic for which the output is generated  \\nHow is machine learning different from Conventional method ? \\n \\n \\n \\n \\n \\n \\n \\n \\n \\n \\n \\nProprietary content. All rights reserved. Unauthorized use or distribution prohibited.  In conventional programming, a programmer needs to hard code the logic of the program. In \\nmachine learning, it depends a lot on the machine which learns from input data.  The computer \\nsystems  use these statistical models to perform a specific task effectively. Here you don’t need \\nto provide explicit instructions; instead, it relies on  patterns  and inference.  \\nFor example let us consider a scenario where a person wins if he scores above 10 0 and losses of \\nhe scores below 100, for this in conventional programming the programmer writes the logic of \\nthe code and an input is given to get desired output  \\nIn machine learning, a dataset containing of the numbers with output is fitted and trained wit h \\na machine learning algorithm after with a model is trained to predict whatever input is given to \\npredict the output.  \\nUnlike traditional programming, machine learning is an automated process. It  can increase the \\nvalue of your embedded analytics in many areas, including data prep, natural language \\ninterfaces, automatic outlier detection, recommendations, and causality and significance \\ndetection.  \\n \\n \\nSTATISTICS  \\n Statistics is the science concerned with developing and studying methods for collecting, \\nanalyzi ng, interpreting and presenting data. Statistical measure are mean, mode, range, and \\nstandard deviation.  Statistics is a tool that helps us to extract information and knowledge from \\ndata.  \\nFor example In a classroom there can be many students, and to analyz e the performance of the \\nstudent and make useful insights we can use statistics.  \\nStatistics in machine learning can be classified based on the steps,  \\nSTATISTICS IN DATA PREPARATION  \\nA basic understanding of data distributions, descriptive statistics, and da ta visualization is \\nrequired to help you identify the methods to choose when performing these tasks.  \\nSTATISTICS IN MODEL EVALUATION  \\nStatistical methods are required when evaluating the skill of a machine learning model on data \\nnot seen during training.  \\nSTATISTICS IN MODEL PREDICTION  \\nStatistical methods are required when presenting the skill of a final model to stakeholder. This \\nmight include estimation statistics such as prediction intervals.  \\nStatistics can be broadly classified into   \\nProprietary content. All rights reserved. Unauthorized use or distribution prohibited.  Descriptive Statistics:  Descriptive statistics refer to methods for summarizing raw observations \\ninto information that we can understand and share.  \\nInferential Statistics: Inferential statistics is a fancy name for methods that aid in quantifying \\nproperties of the domain or popu lation from a smaller set of obtained observations called a \\nsample.  \\n \\n \\n \\n \\n \\n \\n \\n \\n \\n \\nDESCRIPTIVE STATISTICS  \\n Descriptive statistics mainly deals with two factors namely,  \\n1. Measure of central tendencies  \\n2. Measure of variability  \\nMEASURE OF CENTRAL TENDANCY  \\n The measure of central tendency calculates a single value that describes the set of data by \\nidentifying the central position within the set of data. The valid measures of central tendency are,  \\n1. MEAN  \\n2. MODE  \\n3. MEDIAN  \\n \\nProprietary content. All rights reserved. Unauthorized use or distribution prohibited.   \\n \\n \\nExample  \\n \\nLet us consider a set of data 2 ,3,4,4,6,7 as the data set of people in a family living in the area A. Now to \\ncalculate the mean, mode, and median.  \\nTo calculate mean, which is the arithmetic mean of the continuous data  \\n  2+3+4+4+6+7/6=4.333 is the mean value  \\n \\nTo calculate median, which is the middle value of the data set   we need to arrange the data set in order \\nand then calculate, since the data set is in order we can directly infer the median.  \\nSince there are two middle value 4 and 4 we need to add those and divide by 2 to find the med ian value.  \\n  4+4/2=4 is the median value of the data set  \\n \\nTo calculate mode, which shows the number that occurs frequently  \\n  The number 4 occurs frequently in the given data set hence  4 is the mode.  \\n \\nProprietary content. All rights reserved. Unauthorized use or distribution prohibited.   \\n \\n \\n \\n \\n \\n \\n \\n \\n \\n \\nMEASURE OF VARIABLITY  \\nVariability in statist ics is the mathematical  measure  of the spread of a  data  set. Variability  describes how \\nfar apart  data  points lie from each other and from the center of a distribution.  Variability is measured on \\nbasis of,  \\n1. Range  \\n2. Standard deviation  \\n3. Variance  \\n \\nRANGE  \\nIn statistics, the range of a set of data is the difference between the largest and smallest values. \\nDifference here is specific, the range of a set of data is the result of subtracting the sample maximum \\nand minimum . \\n \\n \\n \\n \\n \\n \\n \\n \\n \\nRANGE = MAXIMUM VALUE -MINIMUM VALUE  \\n \\nProprietary content. All rights reserved. Unauthorized use or distribution prohibited.  STANDARD DEVIATION  \\n the standard deviation is a measure of the amount of variation or dispersion of a set of values.   \\n \\n           DATA   STANDARD DEVIATION  \\nS.D = √ (DATA -MEAN)/N  \\n           3    3-4        -1  \\n           3    3-4   -1 √ (-1+(-1)+0+2 ) \\n           4 \\n \\n           4    4-4    0 = √0=0 \\n           6    6-4    2  \\n \\nVARIANCE  \\nvariance is the expectation of the squared deviation of a random variable from its population mean or \\nsample mean.  \\n \\n \\n \\n \\n \\n \\n \\n \\n \\n \\n \\n \\n \\nProprietary content. All rights reserved. Unauthorized use or distribution prohibited.  INFERENTIAL STATISTICS  \\n This takes data from a sample and makes inferences and predictions about the larger population \\nfrom which sample is drawn. It is difficult to analyze the entire data individually so we make inferential \\nstatistics to analyze a sample which is drawn from the popu lation and made some predictions.  \\n \\n \\n \\n \\n \\n \\n \\nMACHINE LEARNING VS STATISTICAL MODEL  \\nThe major difference between machine learning and statistics is their purpose. Machine \\nlearning  models are designed to make the most accurate predictions possible. Statistical \\nmodels are designed for inference about the relationships between variables  \\n \\n \\n    \\n \\n \\n \\n \\n \\n \\n \\n \\n \\n \\n \\n \\n \\nProprietary content. All rights reserved. Unauthorized use or distribution prohibited.   \\nFORMULAS USED  \\n \\n \\n  \\n \\n \\n \\n \\n \\n \\n \\n  \\n \\n \\n \\n \\n \\n  \\n'"
      ]
     },
     "execution_count": 13,
     "metadata": {},
     "output_type": "execute_result"
    }
   ],
   "source": [
    "quiz_gen"
   ]
  },
  {
   "cell_type": "code",
   "execution_count": 14,
   "metadata": {},
   "outputs": [],
   "source": [
    "from langchain.text_splitter import TokenTextSplitter"
   ]
  },
  {
   "cell_type": "code",
   "execution_count": 15,
   "metadata": {},
   "outputs": [],
   "source": [
    "splitter_quiz_gen = TokenTextSplitter(\n",
    "    model_name= \"gpt-3.5-turbo\",\n",
    "    chunk_size= 10000,\n",
    "    chunk_overlap = 200\n",
    ")"
   ]
  },
  {
   "cell_type": "code",
   "execution_count": 16,
   "metadata": {},
   "outputs": [],
   "source": [
    "chunk_quiz_gen = splitter_quiz_gen.split_text(quiz_gen)"
   ]
  },
  {
   "cell_type": "code",
   "execution_count": 17,
   "metadata": {},
   "outputs": [
    {
     "data": {
      "text/plain": [
       "[' \\nProprietary content. All rights reserved. Unauthorized use or distribution prohibited.   \\n \\n \\n \\n \\n \\n \\n \\n \\n \\n \\n \\n \\n \\n \\n \\nSelf-Learning Material  \\n \\n \\nProgram: MCA  \\nSpecialization: Artificial Intelligence  \\nSemester: 2 \\nCourse Name: Predictive Analytics using Machine Learning  \\nCourse Code: 21VMC6S205  \\nUnit Name : Introduction t o Machine Learning  \\n \\n \\n \\n \\n \\n \\n \\n  \\n \\nProprietary content. All rights reserved. Unauthorized use or distribution prohibited.   \\nSELF LEARNING MATERIAL  \\nUNIT 03 : INTRODUCTION TO MACHINE LEARNING  \\nOVERVIEW  \\n \\n \\n \\n \\nOBJECTIVES   \\n In this unit you will learn  \\n1. WHAT IS MACHINE LEARNING  \\n2. AI vs ML vs DL  \\n3. SIGNIFICANCE OF ML  \\n4. STATISTICS  \\n5. TYPES OF STATISTICS  \\nLEARNING OUTCOMES  \\nAt the end of the unit you would  \\n\\uf0b7 A basic understanding of machine learning  \\n\\uf0b7 How is machine learning different from other concepts  \\n\\uf0b7 Statistics and its types  \\nTABLE OF TOPICS  \\n3.1 Machine learning introduction  \\n3.1.1 ML vs DL  \\n3.1.2 ML vs AI  \\n3.1.3 ML vs Convenetinal programming  \\n3.2 Statistics  \\n3.2.1 descriptive statistics  \\n1. measure of central tendancy  \\n1.1 mean \\n1.2 mode  \\n1.3 median  \\n2. measure of variability  \\n2.1 range  \\n2.2 SD \\n2.3 Variance  \\n3.2.2 inferential statistics  Machine learning – introduction,significance,use cases ; AI : DEEP LEARNING: MACHINE LEARNING -\\ndefinition,differences ;Statistics – definition, example ,Types of statistics – inferential and descriptive \\nstatistics -range,mean,mode,SD,variance,median.  \\n  \\nProprietary content. All rights reserved. Unauthorized use or distribution prohibited.   \\n   \\nINTRODUCTION TO MACHINE LEARNING  \\n \\nMACHINE LEARNING  \\nA machine is a thing that is created by people to make work easier.  A tool or invention \\nmultiplies the effect of human effort.  A machine when invented reduced the human \\nintelligence.  \\nA learning is defined as the acquisition of knowledge or skills through study, experience, or \\nbeing taught.   \\nNow, machine learning can be defined as the machine which was invented by human to reduce \\ntheir work is being made to learn and acquire the required knowledge through experience or \\nbeing taught by which it does some function with help of an algorithm is know as machine \\nlearning. The algorithm by which it does some function is called a ma chine learning algorithm.  \\nFor example, let us consider the case where there are people in the area where few likes spicy \\nflavored food and few likes less spicy flavor and some may even dislike the spicy flavored food. \\nBy taking a survey and with the collec ted data a graph is being plotted where the points in blue \\ncolor are the people who likes the spicy flavor in the food and had given high rating for the \\nfood. And the brown points are given by people who dislikes or shown less likings than others \\ntowards t he spicy flavored food.  \\n \\n \\nProprietary content. All rights reserved. Unauthorized use or distribution prohibited.  The points that are closer and falls under the category of ‘liking and high rating’ are grouped \\ntogether which means any points that lies under that category is considered that the person \\nhas liking towards the flavor of food. The  points that fall under the category of ‘low rating and \\nless liking’ would be considered as the other category.  \\nNow, with this category when a new person is added to the mass and when the survey is again \\ntaken and those points are being marked, now the ana lysis can be easily made and the \\nrestaurants to be opened in that area can make dishes accordingly to grow their business \\naccording to the people’s choice of taste.  \\nSo, if the area people on high range has shown interest towards high spicy foods then the \\nrestaurants can cook food which are spicy and if the area people had shown interest to less \\nspicy food then the restaurant can cook food accordingly and alter their food in their menu  \\nThis is one such case where machine learning can be applied and is useful  to grow a business \\nand improve the growth.  \\n \\n \\n \\nNow, the circle is drawn around the points for a minimum nearby distance to understand the \\nrelation which is a famous machine learning algorithm K -means , by using this algorithm we can \\nnow predict that the p erson whose point is depicted as purple falls under ‘disliking spicy food’ \\nas the number of points lying near that point is of those who has given less rating for the spicy \\nflavored food.  \\n \\n \\nProprietary content. All rights reserved. Unauthorized use or distribution prohibited.  Hence, by using this we can predict the needed outcome.  \\n \\nMACHINE LE ARNING SIGNIFICANCE  \\nMachine learning as said simplifies a large problem, thereby reducing the human intervention and \\nhandles to solve the problem at ease.  Some of the major problems were solved by applying machine -\\nlearning  concepts and advancements has be en done in many field.  \\nFor example, fraud detection which required human intelligence but now using the machine -learning \\nalgorithm the fraud detection is done efficiently than human. For  this  it requires a dataset and a \\nmachine -learning algorithm by which a machine learning model can be built to predict the output.  \\nWhen it comes to machine learning the system is doing the job of human, and how does the system \\ndoes this? Whether it is being tra ined or is it being dictated to do?. So, for this question the machine \\nlearning can be categorized into below methods of learning .  \\n1. SUPERVISED LEARNING  \\n2. UNSUPERVISED LEARNING  \\n3. SEMI - SUPERVISED LEARNING  \\n4. REINFORCEMENT LEARNING  \\nWhen is machine learning is being  useful?  \\nThe machine learning concept is used in many fields some are being listed  \\nHEALTH CARE:  Now, it is possible to pred ict the heart attack death rate, birth rate in an area and many \\nsuch useful insights which can help to take necessary actions based o n the outcome.  \\nEDUCATION: To analyze the performance of the students, and to predict the results in the forth coming \\nyear with the past history datasets.  \\nFINANCIAL SERVICES: Fraud detection, loan prediction and all such analysis can be made to enhance the \\nrespective fields using machine learning algorithm.  \\nHow is machine learning different from AI and Deep learning?   \\nProprietary content. All rights reserved. Unauthorized use or distribution prohibited.   \\n \\n \\n \\n \\n \\n \\n \\n \\n \\n \\n \\nMACHINE LEARNING VS DEEP LEARNING  \\nDeep learning algorithms can be regarded both as a sophisticated and mathematically complex \\nevolution of machine learning algorithms. Deep learning describes algorithms that analyze data \\nwith a logic structure similar to how a human would draw conclusions.  \\n\\uf0b7 Deep learning is a specialized subset of machine learning.  \\n\\uf0b7 Deep learning relies on a layered structure of algorithms called an artificial neural \\nnetwork.  \\n\\uf0b7 Deep learning has huge data needs but requires little human intervention to function \\nproperly.  \\n\\uf0b7 Transfer learning is a cure for the needs of large training datasets.  \\n \\n \\n \\n \\n \\n \\nIn the above given exam ple ,  \\nFeature extraction refers to the  process of transforming raw data into numerical features  that \\ncan be processed while preserving the information in the original data set  \\nMACHINE LEARNING VS ARTIFICIAL INTELLIGENCE  \\n \\nProprietary content. All rights reserved. Unauthorized use or distribution prohibited.  AI solves tasks that require human intelligence while ML is a subset of artificial intelligence that \\nsolves specific tasks by learning from data and making predictions. Artificial intelligence is a \\ntechnology which enables a machine to simulate human behavior. Machine learning is a subset \\nof AI which allows a machine to automatically learn from past data without programming \\nexplicitly.  AI system is concerned about maximizing the chances of success. Machine learning is \\nmainly concerned about accuracy and patterns.  \\n \\n \\n \\n \\n \\n \\n \\n \\nCONVENTIONAL PROGRA MMING METHODS  \\nConventional programming is a manual process, which means the programmer creates the logic \\nof the program.  Conventional Programming  uses conventional procedural language. It could be \\nassembly language or a high -level language such as C, C++, Java, JavaScript, Python, etc. \\nConventional programming is a manual process, which means the programmer creates the logic \\nof the program.  \\nHere the programmer gives the input and creates the logic for which the output is generated  \\nHow is machine learning different from Conventional method ? \\n \\n \\n \\n \\n \\n \\n \\n \\n \\n \\n \\nProprietary content. All rights reserved. Unauthorized use or distribution prohibited.  In conventional programming, a programmer needs to hard code the logic of the program. In \\nmachine learning, it depends a lot on the machine which learns from input data.  The computer \\nsystems  use these statistical models to perform a specific task effectively. Here you don’t need \\nto provide explicit instructions; instead, it relies on  patterns  and inference.  \\nFor example let us consider a scenario where a person wins if he scores above 10 0 and losses of \\nhe scores below 100, for this in conventional programming the programmer writes the logic of \\nthe code and an input is given to get desired output  \\nIn machine learning, a dataset containing of the numbers with output is fitted and trained wit h \\na machine learning algorithm after with a model is trained to predict whatever input is given to \\npredict the output.  \\nUnlike traditional programming, machine learning is an automated process. It  can increase the \\nvalue of your embedded analytics in many areas, including data prep, natural language \\ninterfaces, automatic outlier detection, recommendations, and causality and significance \\ndetection.  \\n \\n \\nSTATISTICS  \\n Statistics is the science concerned with developing and studying methods for collecting, \\nanalyzi ng, interpreting and presenting data. Statistical measure are mean, mode, range, and \\nstandard deviation.  Statistics is a tool that helps us to extract information and knowledge from \\ndata.  \\nFor example In a classroom there can be many students, and to analyz e the performance of the \\nstudent and make useful insights we can use statistics.  \\nStatistics in machine learning can be classified based on the steps,  \\nSTATISTICS IN DATA PREPARATION  \\nA basic understanding of data distributions, descriptive statistics, and da ta visualization is \\nrequired to help you identify the methods to choose when performing these tasks.  \\nSTATISTICS IN MODEL EVALUATION  \\nStatistical methods are required when evaluating the skill of a machine learning model on data \\nnot seen during training.  \\nSTATISTICS IN MODEL PREDICTION  \\nStatistical methods are required when presenting the skill of a final model to stakeholder. This \\nmight include estimation statistics such as prediction intervals.  \\nStatistics can be broadly classified into   \\nProprietary content. All rights reserved. Unauthorized use or distribution prohibited.  Descriptive Statistics:  Descriptive statistics refer to methods for summarizing raw observations \\ninto information that we can understand and share.  \\nInferential Statistics: Inferential statistics is a fancy name for methods that aid in quantifying \\nproperties of the domain or popu lation from a smaller set of obtained observations called a \\nsample.  \\n \\n \\n \\n \\n \\n \\n \\n \\n \\n \\nDESCRIPTIVE STATISTICS  \\n Descriptive statistics mainly deals with two factors namely,  \\n1. Measure of central tendencies  \\n2. Measure of variability  \\nMEASURE OF CENTRAL TENDANCY  \\n The measure of central tendency calculates a single value that describes the set of data by \\nidentifying the central position within the set of data. The valid measures of central tendency are,  \\n1. MEAN  \\n2. MODE  \\n3. MEDIAN  \\n \\nProprietary content. All rights reserved. Unauthorized use or distribution prohibited.   \\n \\n \\nExample  \\n \\nLet us consider a set of data 2 ,3,4,4,6,7 as the data set of people in a family living in the area A. Now to \\ncalculate the mean, mode, and median.  \\nTo calculate mean, which is the arithmetic mean of the continuous data  \\n  2+3+4+4+6+7/6=4.333 is the mean value  \\n \\nTo calculate median, which is the middle value of the data set   we need to arrange the data set in order \\nand then calculate, since the data set is in order we can directly infer the median.  \\nSince there are two middle value 4 and 4 we need to add those and divide by 2 to find the med ian value.  \\n  4+4/2=4 is the median value of the data set  \\n \\nTo calculate mode, which shows the number that occurs frequently  \\n  The number 4 occurs frequently in the given data set hence  4 is the mode.  \\n \\nProprietary content. All rights reserved. Unauthorized use or distribution prohibited.   \\n \\n \\n \\n \\n \\n \\n \\n \\n \\n \\nMEASURE OF VARIABLITY  \\nVariability in statist ics is the mathematical  measure  of the spread of a  data  set. Variability  describes how \\nfar apart  data  points lie from each other and from the center of a distribution.  Variability is measured on \\nbasis of,  \\n1. Range  \\n2. Standard deviation  \\n3. Variance  \\n \\nRANGE  \\nIn statistics, the range of a set of data is the difference between the largest and smallest values. \\nDifference here is specific, the range of a set of data is the result of subtracting the sample maximum \\nand minimum . \\n \\n \\n \\n \\n \\n \\n \\n \\n \\nRANGE = MAXIMUM VALUE -MINIMUM VALUE  \\n \\nProprietary content. All rights reserved. Unauthorized use or distribution prohibited.  STANDARD DEVIATION  \\n the standard deviation is a measure of the amount of variation or dispersion of a set of values.   \\n \\n           DATA   STANDARD DEVIATION  \\nS.D = √ (DATA -MEAN)/N  \\n           3    3-4        -1  \\n           3    3-4   -1 √ (-1+(-1)+0+2 ) \\n           4 \\n \\n           4    4-4    0 = √0=0 \\n           6    6-4    2  \\n \\nVARIANCE  \\nvariance is the expectation of the squared deviation of a random variable from its population mean or \\nsample mean.  \\n \\n \\n \\n \\n \\n \\n \\n \\n \\n \\n \\n \\n \\nProprietary content. All rights reserved. Unauthorized use or distribution prohibited.  INFERENTIAL STATISTICS  \\n This takes data from a sample and makes inferences and predictions about the larger population \\nfrom which sample is drawn. It is difficult to analyze the entire data individually so we make inferential \\nstatistics to analyze a sample which is drawn from the popu lation and made some predictions.  \\n \\n \\n \\n \\n \\n \\n \\nMACHINE LEARNING VS STATISTICAL MODEL  \\nThe major difference between machine learning and statistics is their purpose. Machine \\nlearning  models are designed to make the most accurate predictions possible. Statistical \\nmodels are designed for inference about the relationships between variables  \\n \\n \\n    \\n \\n \\n \\n \\n \\n \\n \\n \\n \\n \\n \\n \\n \\nProprietary content. All rights reserved. Unauthorized use or distribution prohibited.   \\nFORMULAS USED  \\n \\n \\n  \\n \\n \\n \\n \\n \\n \\n \\n  \\n \\n \\n \\n \\n \\n  \\n']"
      ]
     },
     "execution_count": 17,
     "metadata": {},
     "output_type": "execute_result"
    }
   ],
   "source": [
    "chunk_quiz_gen"
   ]
  },
  {
   "cell_type": "code",
   "execution_count": 18,
   "metadata": {},
   "outputs": [
    {
     "data": {
      "text/plain": [
       "1"
      ]
     },
     "execution_count": 18,
     "metadata": {},
     "output_type": "execute_result"
    }
   ],
   "source": [
    "len(chunk_quiz_gen)"
   ]
  },
  {
   "cell_type": "code",
   "execution_count": 19,
   "metadata": {},
   "outputs": [
    {
     "data": {
      "text/plain": [
       "list"
      ]
     },
     "execution_count": 19,
     "metadata": {},
     "output_type": "execute_result"
    }
   ],
   "source": [
    "type(chunk_quiz_gen)"
   ]
  },
  {
   "cell_type": "code",
   "execution_count": 20,
   "metadata": {},
   "outputs": [
    {
     "data": {
      "text/plain": [
       "str"
      ]
     },
     "execution_count": 20,
     "metadata": {},
     "output_type": "execute_result"
    }
   ],
   "source": [
    "type(chunk_quiz_gen[0])"
   ]
  },
  {
   "cell_type": "code",
   "execution_count": 21,
   "metadata": {},
   "outputs": [],
   "source": [
    "from langchain.docstore.document import Document"
   ]
  },
  {
   "cell_type": "code",
   "execution_count": 22,
   "metadata": {},
   "outputs": [],
   "source": [
    "document_quiz_gen = [Document(page_content = t) for t in chunk_quiz_gen]"
   ]
  },
  {
   "cell_type": "code",
   "execution_count": 23,
   "metadata": {},
   "outputs": [
    {
     "data": {
      "text/plain": [
       "[Document(page_content=' \\nProprietary content. All rights reserved. Unauthorized use or distribution prohibited.   \\n \\n \\n \\n \\n \\n \\n \\n \\n \\n \\n \\n \\n \\n \\n \\nSelf-Learning Material  \\n \\n \\nProgram: MCA  \\nSpecialization: Artificial Intelligence  \\nSemester: 2 \\nCourse Name: Predictive Analytics using Machine Learning  \\nCourse Code: 21VMC6S205  \\nUnit Name : Introduction t o Machine Learning  \\n \\n \\n \\n \\n \\n \\n \\n  \\n \\nProprietary content. All rights reserved. Unauthorized use or distribution prohibited.   \\nSELF LEARNING MATERIAL  \\nUNIT 03 : INTRODUCTION TO MACHINE LEARNING  \\nOVERVIEW  \\n \\n \\n \\n \\nOBJECTIVES   \\n In this unit you will learn  \\n1. WHAT IS MACHINE LEARNING  \\n2. AI vs ML vs DL  \\n3. SIGNIFICANCE OF ML  \\n4. STATISTICS  \\n5. TYPES OF STATISTICS  \\nLEARNING OUTCOMES  \\nAt the end of the unit you would  \\n\\uf0b7 A basic understanding of machine learning  \\n\\uf0b7 How is machine learning different from other concepts  \\n\\uf0b7 Statistics and its types  \\nTABLE OF TOPICS  \\n3.1 Machine learning introduction  \\n3.1.1 ML vs DL  \\n3.1.2 ML vs AI  \\n3.1.3 ML vs Convenetinal programming  \\n3.2 Statistics  \\n3.2.1 descriptive statistics  \\n1. measure of central tendancy  \\n1.1 mean \\n1.2 mode  \\n1.3 median  \\n2. measure of variability  \\n2.1 range  \\n2.2 SD \\n2.3 Variance  \\n3.2.2 inferential statistics  Machine learning – introduction,significance,use cases ; AI : DEEP LEARNING: MACHINE LEARNING -\\ndefinition,differences ;Statistics – definition, example ,Types of statistics – inferential and descriptive \\nstatistics -range,mean,mode,SD,variance,median.  \\n  \\nProprietary content. All rights reserved. Unauthorized use or distribution prohibited.   \\n   \\nINTRODUCTION TO MACHINE LEARNING  \\n \\nMACHINE LEARNING  \\nA machine is a thing that is created by people to make work easier.  A tool or invention \\nmultiplies the effect of human effort.  A machine when invented reduced the human \\nintelligence.  \\nA learning is defined as the acquisition of knowledge or skills through study, experience, or \\nbeing taught.   \\nNow, machine learning can be defined as the machine which was invented by human to reduce \\ntheir work is being made to learn and acquire the required knowledge through experience or \\nbeing taught by which it does some function with help of an algorithm is know as machine \\nlearning. The algorithm by which it does some function is called a ma chine learning algorithm.  \\nFor example, let us consider the case where there are people in the area where few likes spicy \\nflavored food and few likes less spicy flavor and some may even dislike the spicy flavored food. \\nBy taking a survey and with the collec ted data a graph is being plotted where the points in blue \\ncolor are the people who likes the spicy flavor in the food and had given high rating for the \\nfood. And the brown points are given by people who dislikes or shown less likings than others \\ntowards t he spicy flavored food.  \\n \\n \\nProprietary content. All rights reserved. Unauthorized use or distribution prohibited.  The points that are closer and falls under the category of ‘liking and high rating’ are grouped \\ntogether which means any points that lies under that category is considered that the person \\nhas liking towards the flavor of food. The  points that fall under the category of ‘low rating and \\nless liking’ would be considered as the other category.  \\nNow, with this category when a new person is added to the mass and when the survey is again \\ntaken and those points are being marked, now the ana lysis can be easily made and the \\nrestaurants to be opened in that area can make dishes accordingly to grow their business \\naccording to the people’s choice of taste.  \\nSo, if the area people on high range has shown interest towards high spicy foods then the \\nrestaurants can cook food which are spicy and if the area people had shown interest to less \\nspicy food then the restaurant can cook food accordingly and alter their food in their menu  \\nThis is one such case where machine learning can be applied and is useful  to grow a business \\nand improve the growth.  \\n \\n \\n \\nNow, the circle is drawn around the points for a minimum nearby distance to understand the \\nrelation which is a famous machine learning algorithm K -means , by using this algorithm we can \\nnow predict that the p erson whose point is depicted as purple falls under ‘disliking spicy food’ \\nas the number of points lying near that point is of those who has given less rating for the spicy \\nflavored food.  \\n \\n \\nProprietary content. All rights reserved. Unauthorized use or distribution prohibited.  Hence, by using this we can predict the needed outcome.  \\n \\nMACHINE LE ARNING SIGNIFICANCE  \\nMachine learning as said simplifies a large problem, thereby reducing the human intervention and \\nhandles to solve the problem at ease.  Some of the major problems were solved by applying machine -\\nlearning  concepts and advancements has be en done in many field.  \\nFor example, fraud detection which required human intelligence but now using the machine -learning \\nalgorithm the fraud detection is done efficiently than human. For  this  it requires a dataset and a \\nmachine -learning algorithm by which a machine learning model can be built to predict the output.  \\nWhen it comes to machine learning the system is doing the job of human, and how does the system \\ndoes this? Whether it is being tra ined or is it being dictated to do?. So, for this question the machine \\nlearning can be categorized into below methods of learning .  \\n1. SUPERVISED LEARNING  \\n2. UNSUPERVISED LEARNING  \\n3. SEMI - SUPERVISED LEARNING  \\n4. REINFORCEMENT LEARNING  \\nWhen is machine learning is being  useful?  \\nThe machine learning concept is used in many fields some are being listed  \\nHEALTH CARE:  Now, it is possible to pred ict the heart attack death rate, birth rate in an area and many \\nsuch useful insights which can help to take necessary actions based o n the outcome.  \\nEDUCATION: To analyze the performance of the students, and to predict the results in the forth coming \\nyear with the past history datasets.  \\nFINANCIAL SERVICES: Fraud detection, loan prediction and all such analysis can be made to enhance the \\nrespective fields using machine learning algorithm.  \\nHow is machine learning different from AI and Deep learning?   \\nProprietary content. All rights reserved. Unauthorized use or distribution prohibited.   \\n \\n \\n \\n \\n \\n \\n \\n \\n \\n \\n \\nMACHINE LEARNING VS DEEP LEARNING  \\nDeep learning algorithms can be regarded both as a sophisticated and mathematically complex \\nevolution of machine learning algorithms. Deep learning describes algorithms that analyze data \\nwith a logic structure similar to how a human would draw conclusions.  \\n\\uf0b7 Deep learning is a specialized subset of machine learning.  \\n\\uf0b7 Deep learning relies on a layered structure of algorithms called an artificial neural \\nnetwork.  \\n\\uf0b7 Deep learning has huge data needs but requires little human intervention to function \\nproperly.  \\n\\uf0b7 Transfer learning is a cure for the needs of large training datasets.  \\n \\n \\n \\n \\n \\n \\nIn the above given exam ple ,  \\nFeature extraction refers to the  process of transforming raw data into numerical features  that \\ncan be processed while preserving the information in the original data set  \\nMACHINE LEARNING VS ARTIFICIAL INTELLIGENCE  \\n \\nProprietary content. All rights reserved. Unauthorized use or distribution prohibited.  AI solves tasks that require human intelligence while ML is a subset of artificial intelligence that \\nsolves specific tasks by learning from data and making predictions. Artificial intelligence is a \\ntechnology which enables a machine to simulate human behavior. Machine learning is a subset \\nof AI which allows a machine to automatically learn from past data without programming \\nexplicitly.  AI system is concerned about maximizing the chances of success. Machine learning is \\nmainly concerned about accuracy and patterns.  \\n \\n \\n \\n \\n \\n \\n \\n \\nCONVENTIONAL PROGRA MMING METHODS  \\nConventional programming is a manual process, which means the programmer creates the logic \\nof the program.  Conventional Programming  uses conventional procedural language. It could be \\nassembly language or a high -level language such as C, C++, Java, JavaScript, Python, etc. \\nConventional programming is a manual process, which means the programmer creates the logic \\nof the program.  \\nHere the programmer gives the input and creates the logic for which the output is generated  \\nHow is machine learning different from Conventional method ? \\n \\n \\n \\n \\n \\n \\n \\n \\n \\n \\n \\nProprietary content. All rights reserved. Unauthorized use or distribution prohibited.  In conventional programming, a programmer needs to hard code the logic of the program. In \\nmachine learning, it depends a lot on the machine which learns from input data.  The computer \\nsystems  use these statistical models to perform a specific task effectively. Here you don’t need \\nto provide explicit instructions; instead, it relies on  patterns  and inference.  \\nFor example let us consider a scenario where a person wins if he scores above 10 0 and losses of \\nhe scores below 100, for this in conventional programming the programmer writes the logic of \\nthe code and an input is given to get desired output  \\nIn machine learning, a dataset containing of the numbers with output is fitted and trained wit h \\na machine learning algorithm after with a model is trained to predict whatever input is given to \\npredict the output.  \\nUnlike traditional programming, machine learning is an automated process. It  can increase the \\nvalue of your embedded analytics in many areas, including data prep, natural language \\ninterfaces, automatic outlier detection, recommendations, and causality and significance \\ndetection.  \\n \\n \\nSTATISTICS  \\n Statistics is the science concerned with developing and studying methods for collecting, \\nanalyzi ng, interpreting and presenting data. Statistical measure are mean, mode, range, and \\nstandard deviation.  Statistics is a tool that helps us to extract information and knowledge from \\ndata.  \\nFor example In a classroom there can be many students, and to analyz e the performance of the \\nstudent and make useful insights we can use statistics.  \\nStatistics in machine learning can be classified based on the steps,  \\nSTATISTICS IN DATA PREPARATION  \\nA basic understanding of data distributions, descriptive statistics, and da ta visualization is \\nrequired to help you identify the methods to choose when performing these tasks.  \\nSTATISTICS IN MODEL EVALUATION  \\nStatistical methods are required when evaluating the skill of a machine learning model on data \\nnot seen during training.  \\nSTATISTICS IN MODEL PREDICTION  \\nStatistical methods are required when presenting the skill of a final model to stakeholder. This \\nmight include estimation statistics such as prediction intervals.  \\nStatistics can be broadly classified into   \\nProprietary content. All rights reserved. Unauthorized use or distribution prohibited.  Descriptive Statistics:  Descriptive statistics refer to methods for summarizing raw observations \\ninto information that we can understand and share.  \\nInferential Statistics: Inferential statistics is a fancy name for methods that aid in quantifying \\nproperties of the domain or popu lation from a smaller set of obtained observations called a \\nsample.  \\n \\n \\n \\n \\n \\n \\n \\n \\n \\n \\nDESCRIPTIVE STATISTICS  \\n Descriptive statistics mainly deals with two factors namely,  \\n1. Measure of central tendencies  \\n2. Measure of variability  \\nMEASURE OF CENTRAL TENDANCY  \\n The measure of central tendency calculates a single value that describes the set of data by \\nidentifying the central position within the set of data. The valid measures of central tendency are,  \\n1. MEAN  \\n2. MODE  \\n3. MEDIAN  \\n \\nProprietary content. All rights reserved. Unauthorized use or distribution prohibited.   \\n \\n \\nExample  \\n \\nLet us consider a set of data 2 ,3,4,4,6,7 as the data set of people in a family living in the area A. Now to \\ncalculate the mean, mode, and median.  \\nTo calculate mean, which is the arithmetic mean of the continuous data  \\n  2+3+4+4+6+7/6=4.333 is the mean value  \\n \\nTo calculate median, which is the middle value of the data set   we need to arrange the data set in order \\nand then calculate, since the data set is in order we can directly infer the median.  \\nSince there are two middle value 4 and 4 we need to add those and divide by 2 to find the med ian value.  \\n  4+4/2=4 is the median value of the data set  \\n \\nTo calculate mode, which shows the number that occurs frequently  \\n  The number 4 occurs frequently in the given data set hence  4 is the mode.  \\n \\nProprietary content. All rights reserved. Unauthorized use or distribution prohibited.   \\n \\n \\n \\n \\n \\n \\n \\n \\n \\n \\nMEASURE OF VARIABLITY  \\nVariability in statist ics is the mathematical  measure  of the spread of a  data  set. Variability  describes how \\nfar apart  data  points lie from each other and from the center of a distribution.  Variability is measured on \\nbasis of,  \\n1. Range  \\n2. Standard deviation  \\n3. Variance  \\n \\nRANGE  \\nIn statistics, the range of a set of data is the difference between the largest and smallest values. \\nDifference here is specific, the range of a set of data is the result of subtracting the sample maximum \\nand minimum . \\n \\n \\n \\n \\n \\n \\n \\n \\n \\nRANGE = MAXIMUM VALUE -MINIMUM VALUE  \\n \\nProprietary content. All rights reserved. Unauthorized use or distribution prohibited.  STANDARD DEVIATION  \\n the standard deviation is a measure of the amount of variation or dispersion of a set of values.   \\n \\n           DATA   STANDARD DEVIATION  \\nS.D = √ (DATA -MEAN)/N  \\n           3    3-4        -1  \\n           3    3-4   -1 √ (-1+(-1)+0+2 ) \\n           4 \\n \\n           4    4-4    0 = √0=0 \\n           6    6-4    2  \\n \\nVARIANCE  \\nvariance is the expectation of the squared deviation of a random variable from its population mean or \\nsample mean.  \\n \\n \\n \\n \\n \\n \\n \\n \\n \\n \\n \\n \\n \\nProprietary content. All rights reserved. Unauthorized use or distribution prohibited.  INFERENTIAL STATISTICS  \\n This takes data from a sample and makes inferences and predictions about the larger population \\nfrom which sample is drawn. It is difficult to analyze the entire data individually so we make inferential \\nstatistics to analyze a sample which is drawn from the popu lation and made some predictions.  \\n \\n \\n \\n \\n \\n \\n \\nMACHINE LEARNING VS STATISTICAL MODEL  \\nThe major difference between machine learning and statistics is their purpose. Machine \\nlearning  models are designed to make the most accurate predictions possible. Statistical \\nmodels are designed for inference about the relationships between variables  \\n \\n \\n    \\n \\n \\n \\n \\n \\n \\n \\n \\n \\n \\n \\n \\n \\nProprietary content. All rights reserved. Unauthorized use or distribution prohibited.   \\nFORMULAS USED  \\n \\n \\n  \\n \\n \\n \\n \\n \\n \\n \\n  \\n \\n \\n \\n \\n \\n  \\n')]"
      ]
     },
     "execution_count": 23,
     "metadata": {},
     "output_type": "execute_result"
    }
   ],
   "source": [
    "document_quiz_gen"
   ]
  },
  {
   "cell_type": "code",
   "execution_count": 24,
   "metadata": {},
   "outputs": [
    {
     "data": {
      "text/plain": [
       "langchain_core.documents.base.Document"
      ]
     },
     "execution_count": 24,
     "metadata": {},
     "output_type": "execute_result"
    }
   ],
   "source": [
    "type(document_quiz_gen[0])"
   ]
  },
  {
   "cell_type": "code",
   "execution_count": 25,
   "metadata": {},
   "outputs": [],
   "source": [
    "splitter_ans_gen = TokenTextSplitter(\n",
    "    model_name = 'gpt-3.5-turbo',\n",
    "    chunk_size = 1000,\n",
    "    chunk_overlap = 100\n",
    ")"
   ]
  },
  {
   "cell_type": "code",
   "execution_count": 26,
   "metadata": {},
   "outputs": [],
   "source": [
    "document_answer_gen = splitter_ans_gen.split_documents(\n",
    "    document_quiz_gen\n",
    ")"
   ]
  },
  {
   "cell_type": "code",
   "execution_count": 27,
   "metadata": {},
   "outputs": [
    {
     "data": {
      "text/plain": [
       "[Document(page_content=' \\nProprietary content. All rights reserved. Unauthorized use or distribution prohibited.   \\n \\n \\n \\n \\n \\n \\n \\n \\n \\n \\n \\n \\n \\n \\n \\nSelf-Learning Material  \\n \\n \\nProgram: MCA  \\nSpecialization: Artificial Intelligence  \\nSemester: 2 \\nCourse Name: Predictive Analytics using Machine Learning  \\nCourse Code: 21VMC6S205  \\nUnit Name : Introduction t o Machine Learning  \\n \\n \\n \\n \\n \\n \\n \\n  \\n \\nProprietary content. All rights reserved. Unauthorized use or distribution prohibited.   \\nSELF LEARNING MATERIAL  \\nUNIT 03 : INTRODUCTION TO MACHINE LEARNING  \\nOVERVIEW  \\n \\n \\n \\n \\nOBJECTIVES   \\n In this unit you will learn  \\n1. WHAT IS MACHINE LEARNING  \\n2. AI vs ML vs DL  \\n3. SIGNIFICANCE OF ML  \\n4. STATISTICS  \\n5. TYPES OF STATISTICS  \\nLEARNING OUTCOMES  \\nAt the end of the unit you would  \\n\\uf0b7 A basic understanding of machine learning  \\n\\uf0b7 How is machine learning different from other concepts  \\n\\uf0b7 Statistics and its types  \\nTABLE OF TOPICS  \\n3.1 Machine learning introduction  \\n3.1.1 ML vs DL  \\n3.1.2 ML vs AI  \\n3.1.3 ML vs Convenetinal programming  \\n3.2 Statistics  \\n3.2.1 descriptive statistics  \\n1. measure of central tendancy  \\n1.1 mean \\n1.2 mode  \\n1.3 median  \\n2. measure of variability  \\n2.1 range  \\n2.2 SD \\n2.3 Variance  \\n3.2.2 inferential statistics  Machine learning – introduction,significance,use cases ; AI : DEEP LEARNING: MACHINE LEARNING -\\ndefinition,differences ;Statistics – definition, example ,Types of statistics – inferential and descriptive \\nstatistics -range,mean,mode,SD,variance,median.  \\n  \\nProprietary content. All rights reserved. Unauthorized use or distribution prohibited.   \\n   \\nINTRODUCTION TO MACHINE LEARNING  \\n \\nMACHINE LEARNING  \\nA machine is a thing that is created by people to make work easier.  A tool or invention \\nmultiplies the effect of human effort.  A machine when invented reduced the human \\nintelligence.  \\nA learning is defined as the acquisition of knowledge or skills through study, experience, or \\nbeing taught.   \\nNow, machine learning can be defined as the machine which was invented by human to reduce \\ntheir work is being made to learn and acquire the required knowledge through experience or \\nbeing taught by which it does some function with help of an algorithm is know as machine \\nlearning. The algorithm by which it does some function is called a ma chine learning algorithm.  \\nFor example, let us consider the case where there are people in the area where few likes spicy \\nflavored food and few likes less spicy flavor and some may even dislike the spicy flavored food. \\nBy taking a survey and with the collec ted data a graph is being plotted where the points in blue \\ncolor are the people who likes the spicy flavor in the food and had given high rating for the \\nfood. And the brown points are given by people who dislikes or shown less likings than others \\ntowards t he spicy flavored food.  \\n \\n \\nProprietary content. All rights reserved. Unauthorized use or distribution prohibited.  The points that are closer and falls under the category of ‘liking and high rating’ are grouped \\ntogether which means any points that lies under that category is considered that the person \\nhas liking towards the flavor of food. The  points that fall under the category of ‘low rating and \\nless liking’ would be considered as the other category.  \\nNow, with this category when a new person is added to the mass and when the survey is again \\ntaken and those points are being marked, now the ana lysis can be easily made and the \\nrestaurants to be opened in that area can make dishes accordingly to grow their business \\naccording to the people’s choice of taste.  \\nSo, if the area people on high range has shown interest towards high spicy foods then the \\nrestaurants can cook food which are spicy and if the area people had shown interest to less \\nspicy food then the restaurant can cook food accordingly and alter their food in their menu  \\nThis is one such case where machine learning can be applied and is useful  to grow a business \\nand improve the growth.  \\n \\n \\n \\nNow, the circle is drawn around the points for a minimum nearby distance to understand the \\nrelation which is a famous machine learning algorithm K -means , by using this algorithm we can \\nnow predict that the p erson whose point is depicted as purple falls under ‘disliking spicy food’ \\nas the number of points lying near that point is of those who has given less rating for the spicy \\nflavored food.  \\n \\n \\nProprietary content. All rights reserved. Unauthorized use or distribution prohibited.  Hence, by using this we can predict'),\n",
       " Document(page_content=' minimum nearby distance to understand the \\nrelation which is a famous machine learning algorithm K -means , by using this algorithm we can \\nnow predict that the p erson whose point is depicted as purple falls under ‘disliking spicy food’ \\nas the number of points lying near that point is of those who has given less rating for the spicy \\nflavored food.  \\n \\n \\nProprietary content. All rights reserved. Unauthorized use or distribution prohibited.  Hence, by using this we can predict the needed outcome.  \\n \\nMACHINE LE ARNING SIGNIFICANCE  \\nMachine learning as said simplifies a large problem, thereby reducing the human intervention and \\nhandles to solve the problem at ease.  Some of the major problems were solved by applying machine -\\nlearning  concepts and advancements has be en done in many field.  \\nFor example, fraud detection which required human intelligence but now using the machine -learning \\nalgorithm the fraud detection is done efficiently than human. For  this  it requires a dataset and a \\nmachine -learning algorithm by which a machine learning model can be built to predict the output.  \\nWhen it comes to machine learning the system is doing the job of human, and how does the system \\ndoes this? Whether it is being tra ined or is it being dictated to do?. So, for this question the machine \\nlearning can be categorized into below methods of learning .  \\n1. SUPERVISED LEARNING  \\n2. UNSUPERVISED LEARNING  \\n3. SEMI - SUPERVISED LEARNING  \\n4. REINFORCEMENT LEARNING  \\nWhen is machine learning is being  useful?  \\nThe machine learning concept is used in many fields some are being listed  \\nHEALTH CARE:  Now, it is possible to pred ict the heart attack death rate, birth rate in an area and many \\nsuch useful insights which can help to take necessary actions based o n the outcome.  \\nEDUCATION: To analyze the performance of the students, and to predict the results in the forth coming \\nyear with the past history datasets.  \\nFINANCIAL SERVICES: Fraud detection, loan prediction and all such analysis can be made to enhance the \\nrespective fields using machine learning algorithm.  \\nHow is machine learning different from AI and Deep learning?   \\nProprietary content. All rights reserved. Unauthorized use or distribution prohibited.   \\n \\n \\n \\n \\n \\n \\n \\n \\n \\n \\n \\nMACHINE LEARNING VS DEEP LEARNING  \\nDeep learning algorithms can be regarded both as a sophisticated and mathematically complex \\nevolution of machine learning algorithms. Deep learning describes algorithms that analyze data \\nwith a logic structure similar to how a human would draw conclusions.  \\n\\uf0b7 Deep learning is a specialized subset of machine learning.  \\n\\uf0b7 Deep learning relies on a layered structure of algorithms called an artificial neural \\nnetwork.  \\n\\uf0b7 Deep learning has huge data needs but requires little human intervention to function \\nproperly.  \\n\\uf0b7 Transfer learning is a cure for the needs of large training datasets.  \\n \\n \\n \\n \\n \\n \\nIn the above given exam ple ,  \\nFeature extraction refers to the  process of transforming raw data into numerical features  that \\ncan be processed while preserving the information in the original data set  \\nMACHINE LEARNING VS ARTIFICIAL INTELLIGENCE  \\n \\nProprietary content. All rights reserved. Unauthorized use or distribution prohibited.  AI solves tasks that require human intelligence while ML is a subset of artificial intelligence that \\nsolves specific tasks by learning from data and making predictions. Artificial intelligence is a \\ntechnology which enables a machine to simulate human behavior. Machine learning is a subset \\nof AI which allows a machine to automatically learn from past data without programming \\nexplicitly.  AI system is concerned about maximizing the chances of success. Machine learning is \\nmainly concerned about accuracy and patterns.  \\n \\n \\n \\n \\n \\n \\n \\n \\nCONVENTIONAL PROGRA MMING METHODS  \\nConventional programming is a manual process, which means the programmer creates the logic \\nof the program.  Conventional Programming  uses conventional procedural language. It could be \\nassembly language or a high -level language such as C, C++, Java, JavaScript, Python, etc. \\nConventional programming is a manual process, which means the programmer creates the logic \\nof the program.  \\nHere the programmer gives the input and creates the logic for which the output is generated  \\nHow is machine learning different from Conventional method ? \\n \\n \\n \\n \\n \\n \\n \\n \\n \\n \\n \\nProprietary content. All rights reserved. Unauthorized use or distribution prohibited.  In conventional programming, a programmer needs to hard code the logic of the program. In \\nmachine learning, it depends a lot on the machine which learns from input data.  The computer \\nsystems  use these statistical models to perform a specific task effectively. Here you don’t need \\nto provide explicit instructions; instead, it relies on  patterns  and inference.  \\nFor example let us consider a scenario where a person wins if he scores above 10'),\n",
       " Document(page_content=' reserved. Unauthorized use or distribution prohibited.  In conventional programming, a programmer needs to hard code the logic of the program. In \\nmachine learning, it depends a lot on the machine which learns from input data.  The computer \\nsystems  use these statistical models to perform a specific task effectively. Here you don’t need \\nto provide explicit instructions; instead, it relies on  patterns  and inference.  \\nFor example let us consider a scenario where a person wins if he scores above 10 0 and losses of \\nhe scores below 100, for this in conventional programming the programmer writes the logic of \\nthe code and an input is given to get desired output  \\nIn machine learning, a dataset containing of the numbers with output is fitted and trained wit h \\na machine learning algorithm after with a model is trained to predict whatever input is given to \\npredict the output.  \\nUnlike traditional programming, machine learning is an automated process. It  can increase the \\nvalue of your embedded analytics in many areas, including data prep, natural language \\ninterfaces, automatic outlier detection, recommendations, and causality and significance \\ndetection.  \\n \\n \\nSTATISTICS  \\n Statistics is the science concerned with developing and studying methods for collecting, \\nanalyzi ng, interpreting and presenting data. Statistical measure are mean, mode, range, and \\nstandard deviation.  Statistics is a tool that helps us to extract information and knowledge from \\ndata.  \\nFor example In a classroom there can be many students, and to analyz e the performance of the \\nstudent and make useful insights we can use statistics.  \\nStatistics in machine learning can be classified based on the steps,  \\nSTATISTICS IN DATA PREPARATION  \\nA basic understanding of data distributions, descriptive statistics, and da ta visualization is \\nrequired to help you identify the methods to choose when performing these tasks.  \\nSTATISTICS IN MODEL EVALUATION  \\nStatistical methods are required when evaluating the skill of a machine learning model on data \\nnot seen during training.  \\nSTATISTICS IN MODEL PREDICTION  \\nStatistical methods are required when presenting the skill of a final model to stakeholder. This \\nmight include estimation statistics such as prediction intervals.  \\nStatistics can be broadly classified into   \\nProprietary content. All rights reserved. Unauthorized use or distribution prohibited.  Descriptive Statistics:  Descriptive statistics refer to methods for summarizing raw observations \\ninto information that we can understand and share.  \\nInferential Statistics: Inferential statistics is a fancy name for methods that aid in quantifying \\nproperties of the domain or popu lation from a smaller set of obtained observations called a \\nsample.  \\n \\n \\n \\n \\n \\n \\n \\n \\n \\n \\nDESCRIPTIVE STATISTICS  \\n Descriptive statistics mainly deals with two factors namely,  \\n1. Measure of central tendencies  \\n2. Measure of variability  \\nMEASURE OF CENTRAL TENDANCY  \\n The measure of central tendency calculates a single value that describes the set of data by \\nidentifying the central position within the set of data. The valid measures of central tendency are,  \\n1. MEAN  \\n2. MODE  \\n3. MEDIAN  \\n \\nProprietary content. All rights reserved. Unauthorized use or distribution prohibited.   \\n \\n \\nExample  \\n \\nLet us consider a set of data 2 ,3,4,4,6,7 as the data set of people in a family living in the area A. Now to \\ncalculate the mean, mode, and median.  \\nTo calculate mean, which is the arithmetic mean of the continuous data  \\n  2+3+4+4+6+7/6=4.333 is the mean value  \\n \\nTo calculate median, which is the middle value of the data set   we need to arrange the data set in order \\nand then calculate, since the data set is in order we can directly infer the median.  \\nSince there are two middle value 4 and 4 we need to add those and divide by 2 to find the med ian value.  \\n  4+4/2=4 is the median value of the data set  \\n \\nTo calculate mode, which shows the number that occurs frequently  \\n  The number 4 occurs frequently in the given data set hence  4 is the mode.  \\n \\nProprietary content. All rights reserved. Unauthorized use or distribution prohibited.   \\n \\n \\n \\n \\n \\n \\n \\n \\n \\n \\nMEASURE OF VARIABLITY  \\nVariability in statist ics is the mathematical  measure  of the spread of a  data  set. Variability  describes how \\nfar apart  data  points lie from each other and from the center of a distribution.  Variability is measured on \\nbasis of,  \\n1. Range  \\n2. Standard deviation  \\n3. Variance  \\n \\nRANGE  \\nIn statistics, the range of a set of data is the difference between the largest and smallest values. \\nDifference here is specific, the range of a set of data is'),\n",
       " Document(page_content='  measure  of the spread of a  data  set. Variability  describes how \\nfar apart  data  points lie from each other and from the center of a distribution.  Variability is measured on \\nbasis of,  \\n1. Range  \\n2. Standard deviation  \\n3. Variance  \\n \\nRANGE  \\nIn statistics, the range of a set of data is the difference between the largest and smallest values. \\nDifference here is specific, the range of a set of data is the result of subtracting the sample maximum \\nand minimum . \\n \\n \\n \\n \\n \\n \\n \\n \\n \\nRANGE = MAXIMUM VALUE -MINIMUM VALUE  \\n \\nProprietary content. All rights reserved. Unauthorized use or distribution prohibited.  STANDARD DEVIATION  \\n the standard deviation is a measure of the amount of variation or dispersion of a set of values.   \\n \\n           DATA   STANDARD DEVIATION  \\nS.D = √ (DATA -MEAN)/N  \\n           3    3-4        -1  \\n           3    3-4   -1 √ (-1+(-1)+0+2 ) \\n           4 \\n \\n           4    4-4    0 = √0=0 \\n           6    6-4    2  \\n \\nVARIANCE  \\nvariance is the expectation of the squared deviation of a random variable from its population mean or \\nsample mean.  \\n \\n \\n \\n \\n \\n \\n \\n \\n \\n \\n \\n \\n \\nProprietary content. All rights reserved. Unauthorized use or distribution prohibited.  INFERENTIAL STATISTICS  \\n This takes data from a sample and makes inferences and predictions about the larger population \\nfrom which sample is drawn. It is difficult to analyze the entire data individually so we make inferential \\nstatistics to analyze a sample which is drawn from the popu lation and made some predictions.  \\n \\n \\n \\n \\n \\n \\n \\nMACHINE LEARNING VS STATISTICAL MODEL  \\nThe major difference between machine learning and statistics is their purpose. Machine \\nlearning  models are designed to make the most accurate predictions possible. Statistical \\nmodels are designed for inference about the relationships between variables  \\n \\n \\n    \\n \\n \\n \\n \\n \\n \\n \\n \\n \\n \\n \\n \\n \\nProprietary content. All rights reserved. Unauthorized use or distribution prohibited.   \\nFORMULAS USED  \\n \\n \\n  \\n \\n \\n \\n \\n \\n \\n \\n  \\n \\n \\n \\n \\n \\n  \\n')]"
      ]
     },
     "execution_count": 27,
     "metadata": {},
     "output_type": "execute_result"
    }
   ],
   "source": [
    "document_answer_gen"
   ]
  },
  {
   "cell_type": "code",
   "execution_count": 28,
   "metadata": {},
   "outputs": [
    {
     "data": {
      "text/plain": [
       "4"
      ]
     },
     "execution_count": 28,
     "metadata": {},
     "output_type": "execute_result"
    }
   ],
   "source": [
    "len(document_answer_gen)"
   ]
  },
  {
   "cell_type": "code",
   "execution_count": 29,
   "metadata": {},
   "outputs": [],
   "source": [
    "from langchain.chat_models import ChatOpenAI"
   ]
  },
  {
   "cell_type": "code",
   "execution_count": 30,
   "metadata": {},
   "outputs": [
    {
     "name": "stderr",
     "output_type": "stream",
     "text": [
      "c:\\Users\\pc\\anaconda3\\envs\\Quiz\\lib\\site-packages\\langchain_core\\_api\\deprecation.py:139: LangChainDeprecationWarning: The class `ChatOpenAI` was deprecated in LangChain 0.0.10 and will be removed in 0.3.0. An updated version of the class exists in the langchain-openai package and should be used instead. To use it run `pip install -U langchain-openai` and import as `from langchain_openai import ChatOpenAI`.\n",
      "  warn_deprecated(\n"
     ]
    }
   ],
   "source": [
    "llm_quiz_gen_pipeline = ChatOpenAI(\n",
    "    model = 'gpt-3.5-turbo',\n",
    "    temperature = 0.3\n",
    ")"
   ]
  },
  {
   "cell_type": "code",
   "execution_count": 31,
   "metadata": {},
   "outputs": [],
   "source": [
    "prompt_template = \"\"\"\n",
    "You are an expert at creating questions based on coding materials and documentation.\n",
    "Your goal is to prepare a coder or programmer for their exam and coding tests.\n",
    "You do this by asking short, concise questions about the text below:\n",
    "\n",
    "------------\n",
    "{text}\n",
    "------------\n",
    "\n",
    "Create short questions that will prepare the coders or programmers for their tests.\n",
    "Make sure not to lose any important information.\n",
    "\n",
    "QUESTIONS:\n",
    "\"\"\""
   ]
  },
  {
   "cell_type": "code",
   "execution_count": 32,
   "metadata": {},
   "outputs": [],
   "source": [
    "from langchain.prompts import PromptTemplate"
   ]
  },
  {
   "cell_type": "code",
   "execution_count": 33,
   "metadata": {},
   "outputs": [],
   "source": [
    "PROMPT_QUESTIONS = PromptTemplate(template=prompt_template, input_variables=['text'])"
   ]
  },
  {
   "cell_type": "code",
   "execution_count": 34,
   "metadata": {},
   "outputs": [],
   "source": [
    "refine_template = (\"\"\"\n",
    "You are an expert at creating practice questions based on coding material and documentation.\n",
    "Your goal is to help a coder or programmer prepare for a coding test.\n",
    "We have received some practice questions to a certain extent: {existing_answer}.\n",
    "You have the option to refine the existing questions or add new ones if necessary, using the context below.\n",
    "\n",
    "------------\n",
    "{text}\n",
    "------------\n",
    "\n",
    "Given the new context, refine the original questions in English. \n",
    "If the context is not helpful, please provide the original questions. \n",
    "Create short and easy-to-answer questions.\n",
    "\n",
    "QUESTIONS:\n",
    "\"\"\"\n",
    ")"
   ]
  },
  {
   "cell_type": "code",
   "execution_count": 35,
   "metadata": {},
   "outputs": [],
   "source": [
    "REFINE_PROMPT_QUESTIONS = PromptTemplate(\n",
    "    input_variables=[\"existing_answer\", \"text\"],\n",
    "    template=refine_template,\n",
    ")"
   ]
  },
  {
   "cell_type": "code",
   "execution_count": 36,
   "metadata": {},
   "outputs": [],
   "source": [
    "from langchain.chains.summarize import load_summarize_chain"
   ]
  },
  {
   "cell_type": "code",
   "execution_count": 37,
   "metadata": {},
   "outputs": [],
   "source": [
    "ques_gen_chain = load_summarize_chain(llm = llm_quiz_gen_pipeline, \n",
    "                                          chain_type = \"refine\", \n",
    "                                          verbose = True, \n",
    "                                          question_prompt=PROMPT_QUESTIONS, \n",
    "                                          refine_prompt=REFINE_PROMPT_QUESTIONS)"
   ]
  },
  {
   "cell_type": "code",
   "execution_count": 38,
   "metadata": {},
   "outputs": [
    {
     "name": "stderr",
     "output_type": "stream",
     "text": [
      "c:\\Users\\pc\\anaconda3\\envs\\Quiz\\lib\\site-packages\\langchain_core\\_api\\deprecation.py:139: LangChainDeprecationWarning: The method `Chain.run` was deprecated in langchain 0.1.0 and will be removed in 0.3.0. Use invoke instead.\n",
      "  warn_deprecated(\n"
     ]
    },
    {
     "name": "stdout",
     "output_type": "stream",
     "text": [
      "\n",
      "\n",
      "\u001b[1m> Entering new RefineDocumentsChain chain...\u001b[0m\n",
      "\n",
      "\n",
      "\u001b[1m> Entering new LLMChain chain...\u001b[0m\n",
      "Prompt after formatting:\n",
      "\u001b[32;1m\u001b[1;3m\n",
      "You are an expert at creating questions based on coding materials and documentation.\n",
      "Your goal is to prepare a coder or programmer for their exam and coding tests.\n",
      "You do this by asking short, concise questions about the text below:\n",
      "\n",
      "------------\n",
      " \n",
      "Proprietary content. All rights reserved. Unauthorized use or distribution prohibited.   \n",
      " \n",
      " \n",
      " \n",
      " \n",
      " \n",
      " \n",
      " \n",
      " \n",
      " \n",
      " \n",
      " \n",
      " \n",
      " \n",
      " \n",
      " \n",
      "Self-Learning Material  \n",
      " \n",
      " \n",
      "Program: MCA  \n",
      "Specialization: Artificial Intelligence  \n",
      "Semester: 2 \n",
      "Course Name: Predictive Analytics using Machine Learning  \n",
      "Course Code: 21VMC6S205  \n",
      "Unit Name : Introduction t o Machine Learning  \n",
      " \n",
      " \n",
      " \n",
      " \n",
      " \n",
      " \n",
      " \n",
      "  \n",
      " \n",
      "Proprietary content. All rights reserved. Unauthorized use or distribution prohibited.   \n",
      "SELF LEARNING MATERIAL  \n",
      "UNIT 03 : INTRODUCTION TO MACHINE LEARNING  \n",
      "OVERVIEW  \n",
      " \n",
      " \n",
      " \n",
      " \n",
      "OBJECTIVES   \n",
      " In this unit you will learn  \n",
      "1. WHAT IS MACHINE LEARNING  \n",
      "2. AI vs ML vs DL  \n",
      "3. SIGNIFICANCE OF ML  \n",
      "4. STATISTICS  \n",
      "5. TYPES OF STATISTICS  \n",
      "LEARNING OUTCOMES  \n",
      "At the end of the unit you would  \n",
      " A basic understanding of machine learning  \n",
      " How is machine learning different from other concepts  \n",
      " Statistics and its types  \n",
      "TABLE OF TOPICS  \n",
      "3.1 Machine learning introduction  \n",
      "3.1.1 ML vs DL  \n",
      "3.1.2 ML vs AI  \n",
      "3.1.3 ML vs Convenetinal programming  \n",
      "3.2 Statistics  \n",
      "3.2.1 descriptive statistics  \n",
      "1. measure of central tendancy  \n",
      "1.1 mean \n",
      "1.2 mode  \n",
      "1.3 median  \n",
      "2. measure of variability  \n",
      "2.1 range  \n",
      "2.2 SD \n",
      "2.3 Variance  \n",
      "3.2.2 inferential statistics  Machine learning – introduction,significance,use cases ; AI : DEEP LEARNING: MACHINE LEARNING -\n",
      "definition,differences ;Statistics – definition, example ,Types of statistics – inferential and descriptive \n",
      "statistics -range,mean,mode,SD,variance,median.  \n",
      "  \n",
      "Proprietary content. All rights reserved. Unauthorized use or distribution prohibited.   \n",
      "   \n",
      "INTRODUCTION TO MACHINE LEARNING  \n",
      " \n",
      "MACHINE LEARNING  \n",
      "A machine is a thing that is created by people to make work easier.  A tool or invention \n",
      "multiplies the effect of human effort.  A machine when invented reduced the human \n",
      "intelligence.  \n",
      "A learning is defined as the acquisition of knowledge or skills through study, experience, or \n",
      "being taught.   \n",
      "Now, machine learning can be defined as the machine which was invented by human to reduce \n",
      "their work is being made to learn and acquire the required knowledge through experience or \n",
      "being taught by which it does some function with help of an algorithm is know as machine \n",
      "learning. The algorithm by which it does some function is called a ma chine learning algorithm.  \n",
      "For example, let us consider the case where there are people in the area where few likes spicy \n",
      "flavored food and few likes less spicy flavor and some may even dislike the spicy flavored food. \n",
      "By taking a survey and with the collec ted data a graph is being plotted where the points in blue \n",
      "color are the people who likes the spicy flavor in the food and had given high rating for the \n",
      "food. And the brown points are given by people who dislikes or shown less likings than others \n",
      "towards t he spicy flavored food.  \n",
      " \n",
      " \n",
      "Proprietary content. All rights reserved. Unauthorized use or distribution prohibited.  The points that are closer and falls under the category of ‘liking and high rating’ are grouped \n",
      "together which means any points that lies under that category is considered that the person \n",
      "has liking towards the flavor of food. The  points that fall under the category of ‘low rating and \n",
      "less liking’ would be considered as the other category.  \n",
      "Now, with this category when a new person is added to the mass and when the survey is again \n",
      "taken and those points are being marked, now the ana lysis can be easily made and the \n",
      "restaurants to be opened in that area can make dishes accordingly to grow their business \n",
      "according to the people’s choice of taste.  \n",
      "So, if the area people on high range has shown interest towards high spicy foods then the \n",
      "restaurants can cook food which are spicy and if the area people had shown interest to less \n",
      "spicy food then the restaurant can cook food accordingly and alter their food in their menu  \n",
      "This is one such case where machine learning can be applied and is useful  to grow a business \n",
      "and improve the growth.  \n",
      " \n",
      " \n",
      " \n",
      "Now, the circle is drawn around the points for a minimum nearby distance to understand the \n",
      "relation which is a famous machine learning algorithm K -means , by using this algorithm we can \n",
      "now predict that the p erson whose point is depicted as purple falls under ‘disliking spicy food’ \n",
      "as the number of points lying near that point is of those who has given less rating for the spicy \n",
      "flavored food.  \n",
      " \n",
      " \n",
      "Proprietary content. All rights reserved. Unauthorized use or distribution prohibited.  Hence, by using this we can predict the needed outcome.  \n",
      " \n",
      "MACHINE LE ARNING SIGNIFICANCE  \n",
      "Machine learning as said simplifies a large problem, thereby reducing the human intervention and \n",
      "handles to solve the problem at ease.  Some of the major problems were solved by applying machine -\n",
      "learning  concepts and advancements has be en done in many field.  \n",
      "For example, fraud detection which required human intelligence but now using the machine -learning \n",
      "algorithm the fraud detection is done efficiently than human. For  this  it requires a dataset and a \n",
      "machine -learning algorithm by which a machine learning model can be built to predict the output.  \n",
      "When it comes to machine learning the system is doing the job of human, and how does the system \n",
      "does this? Whether it is being tra ined or is it being dictated to do?. So, for this question the machine \n",
      "learning can be categorized into below methods of learning .  \n",
      "1. SUPERVISED LEARNING  \n",
      "2. UNSUPERVISED LEARNING  \n",
      "3. SEMI - SUPERVISED LEARNING  \n",
      "4. REINFORCEMENT LEARNING  \n",
      "When is machine learning is being  useful?  \n",
      "The machine learning concept is used in many fields some are being listed  \n",
      "HEALTH CARE:  Now, it is possible to pred ict the heart attack death rate, birth rate in an area and many \n",
      "such useful insights which can help to take necessary actions based o n the outcome.  \n",
      "EDUCATION: To analyze the performance of the students, and to predict the results in the forth coming \n",
      "year with the past history datasets.  \n",
      "FINANCIAL SERVICES: Fraud detection, loan prediction and all such analysis can be made to enhance the \n",
      "respective fields using machine learning algorithm.  \n",
      "How is machine learning different from AI and Deep learning?   \n",
      "Proprietary content. All rights reserved. Unauthorized use or distribution prohibited.   \n",
      " \n",
      " \n",
      " \n",
      " \n",
      " \n",
      " \n",
      " \n",
      " \n",
      " \n",
      " \n",
      " \n",
      "MACHINE LEARNING VS DEEP LEARNING  \n",
      "Deep learning algorithms can be regarded both as a sophisticated and mathematically complex \n",
      "evolution of machine learning algorithms. Deep learning describes algorithms that analyze data \n",
      "with a logic structure similar to how a human would draw conclusions.  \n",
      " Deep learning is a specialized subset of machine learning.  \n",
      " Deep learning relies on a layered structure of algorithms called an artificial neural \n",
      "network.  \n",
      " Deep learning has huge data needs but requires little human intervention to function \n",
      "properly.  \n",
      " Transfer learning is a cure for the needs of large training datasets.  \n",
      " \n",
      " \n",
      " \n",
      " \n",
      " \n",
      " \n",
      "In the above given exam ple ,  \n",
      "Feature extraction refers to the  process of transforming raw data into numerical features  that \n",
      "can be processed while preserving the information in the original data set  \n",
      "MACHINE LEARNING VS ARTIFICIAL INTELLIGENCE  \n",
      " \n",
      "Proprietary content. All rights reserved. Unauthorized use or distribution prohibited.  AI solves tasks that require human intelligence while ML is a subset of artificial intelligence that \n",
      "solves specific tasks by learning from data and making predictions. Artificial intelligence is a \n",
      "technology which enables a machine to simulate human behavior. Machine learning is a subset \n",
      "of AI which allows a machine to automatically learn from past data without programming \n",
      "explicitly.  AI system is concerned about maximizing the chances of success. Machine learning is \n",
      "mainly concerned about accuracy and patterns.  \n",
      " \n",
      " \n",
      " \n",
      " \n",
      " \n",
      " \n",
      " \n",
      " \n",
      "CONVENTIONAL PROGRA MMING METHODS  \n",
      "Conventional programming is a manual process, which means the programmer creates the logic \n",
      "of the program.  Conventional Programming  uses conventional procedural language. It could be \n",
      "assembly language or a high -level language such as C, C++, Java, JavaScript, Python, etc. \n",
      "Conventional programming is a manual process, which means the programmer creates the logic \n",
      "of the program.  \n",
      "Here the programmer gives the input and creates the logic for which the output is generated  \n",
      "How is machine learning different from Conventional method ? \n",
      " \n",
      " \n",
      " \n",
      " \n",
      " \n",
      " \n",
      " \n",
      " \n",
      " \n",
      " \n",
      " \n",
      "Proprietary content. All rights reserved. Unauthorized use or distribution prohibited.  In conventional programming, a programmer needs to hard code the logic of the program. In \n",
      "machine learning, it depends a lot on the machine which learns from input data.  The computer \n",
      "systems  use these statistical models to perform a specific task effectively. Here you don’t need \n",
      "to provide explicit instructions; instead, it relies on  patterns  and inference.  \n",
      "For example let us consider a scenario where a person wins if he scores above 10 0 and losses of \n",
      "he scores below 100, for this in conventional programming the programmer writes the logic of \n",
      "the code and an input is given to get desired output  \n",
      "In machine learning, a dataset containing of the numbers with output is fitted and trained wit h \n",
      "a machine learning algorithm after with a model is trained to predict whatever input is given to \n",
      "predict the output.  \n",
      "Unlike traditional programming, machine learning is an automated process. It  can increase the \n",
      "value of your embedded analytics in many areas, including data prep, natural language \n",
      "interfaces, automatic outlier detection, recommendations, and causality and significance \n",
      "detection.  \n",
      " \n",
      " \n",
      "STATISTICS  \n",
      " Statistics is the science concerned with developing and studying methods for collecting, \n",
      "analyzi ng, interpreting and presenting data. Statistical measure are mean, mode, range, and \n",
      "standard deviation.  Statistics is a tool that helps us to extract information and knowledge from \n",
      "data.  \n",
      "For example In a classroom there can be many students, and to analyz e the performance of the \n",
      "student and make useful insights we can use statistics.  \n",
      "Statistics in machine learning can be classified based on the steps,  \n",
      "STATISTICS IN DATA PREPARATION  \n",
      "A basic understanding of data distributions, descriptive statistics, and da ta visualization is \n",
      "required to help you identify the methods to choose when performing these tasks.  \n",
      "STATISTICS IN MODEL EVALUATION  \n",
      "Statistical methods are required when evaluating the skill of a machine learning model on data \n",
      "not seen during training.  \n",
      "STATISTICS IN MODEL PREDICTION  \n",
      "Statistical methods are required when presenting the skill of a final model to stakeholder. This \n",
      "might include estimation statistics such as prediction intervals.  \n",
      "Statistics can be broadly classified into   \n",
      "Proprietary content. All rights reserved. Unauthorized use or distribution prohibited.  Descriptive Statistics:  Descriptive statistics refer to methods for summarizing raw observations \n",
      "into information that we can understand and share.  \n",
      "Inferential Statistics: Inferential statistics is a fancy name for methods that aid in quantifying \n",
      "properties of the domain or popu lation from a smaller set of obtained observations called a \n",
      "sample.  \n",
      " \n",
      " \n",
      " \n",
      " \n",
      " \n",
      " \n",
      " \n",
      " \n",
      " \n",
      " \n",
      "DESCRIPTIVE STATISTICS  \n",
      " Descriptive statistics mainly deals with two factors namely,  \n",
      "1. Measure of central tendencies  \n",
      "2. Measure of variability  \n",
      "MEASURE OF CENTRAL TENDANCY  \n",
      " The measure of central tendency calculates a single value that describes the set of data by \n",
      "identifying the central position within the set of data. The valid measures of central tendency are,  \n",
      "1. MEAN  \n",
      "2. MODE  \n",
      "3. MEDIAN  \n",
      " \n",
      "Proprietary content. All rights reserved. Unauthorized use or distribution prohibited.   \n",
      " \n",
      " \n",
      "Example  \n",
      " \n",
      "Let us consider a set of data 2 ,3,4,4,6,7 as the data set of people in a family living in the area A. Now to \n",
      "calculate the mean, mode, and median.  \n",
      "To calculate mean, which is the arithmetic mean of the continuous data  \n",
      "  2+3+4+4+6+7/6=4.333 is the mean value  \n",
      " \n",
      "To calculate median, which is the middle value of the data set   we need to arrange the data set in order \n",
      "and then calculate, since the data set is in order we can directly infer the median.  \n",
      "Since there are two middle value 4 and 4 we need to add those and divide by 2 to find the med ian value.  \n",
      "  4+4/2=4 is the median value of the data set  \n",
      " \n",
      "To calculate mode, which shows the number that occurs frequently  \n",
      "  The number 4 occurs frequently in the given data set hence  4 is the mode.  \n",
      " \n",
      "Proprietary content. All rights reserved. Unauthorized use or distribution prohibited.   \n",
      " \n",
      " \n",
      " \n",
      " \n",
      " \n",
      " \n",
      " \n",
      " \n",
      " \n",
      " \n",
      "MEASURE OF VARIABLITY  \n",
      "Variability in statist ics is the mathematical  measure  of the spread of a  data  set. Variability  describes how \n",
      "far apart  data  points lie from each other and from the center of a distribution.  Variability is measured on \n",
      "basis of,  \n",
      "1. Range  \n",
      "2. Standard deviation  \n",
      "3. Variance  \n",
      " \n",
      "RANGE  \n",
      "In statistics, the range of a set of data is the difference between the largest and smallest values. \n",
      "Difference here is specific, the range of a set of data is the result of subtracting the sample maximum \n",
      "and minimum . \n",
      " \n",
      " \n",
      " \n",
      " \n",
      " \n",
      " \n",
      " \n",
      " \n",
      " \n",
      "RANGE = MAXIMUM VALUE -MINIMUM VALUE  \n",
      " \n",
      "Proprietary content. All rights reserved. Unauthorized use or distribution prohibited.  STANDARD DEVIATION  \n",
      " the standard deviation is a measure of the amount of variation or dispersion of a set of values.   \n",
      " \n",
      "           DATA   STANDARD DEVIATION  \n",
      "S.D = √ (DATA -MEAN)/N  \n",
      "           3    3-4        -1  \n",
      "           3    3-4   -1 √ (-1+(-1)+0+2 ) \n",
      "           4 \n",
      " \n",
      "           4    4-4    0 = √0=0 \n",
      "           6    6-4    2  \n",
      " \n",
      "VARIANCE  \n",
      "variance is the expectation of the squared deviation of a random variable from its population mean or \n",
      "sample mean.  \n",
      " \n",
      " \n",
      " \n",
      " \n",
      " \n",
      " \n",
      " \n",
      " \n",
      " \n",
      " \n",
      " \n",
      " \n",
      " \n",
      "Proprietary content. All rights reserved. Unauthorized use or distribution prohibited.  INFERENTIAL STATISTICS  \n",
      " This takes data from a sample and makes inferences and predictions about the larger population \n",
      "from which sample is drawn. It is difficult to analyze the entire data individually so we make inferential \n",
      "statistics to analyze a sample which is drawn from the popu lation and made some predictions.  \n",
      " \n",
      " \n",
      " \n",
      " \n",
      " \n",
      " \n",
      " \n",
      "MACHINE LEARNING VS STATISTICAL MODEL  \n",
      "The major difference between machine learning and statistics is their purpose. Machine \n",
      "learning  models are designed to make the most accurate predictions possible. Statistical \n",
      "models are designed for inference about the relationships between variables  \n",
      " \n",
      " \n",
      "    \n",
      " \n",
      " \n",
      " \n",
      " \n",
      " \n",
      " \n",
      " \n",
      " \n",
      " \n",
      " \n",
      " \n",
      " \n",
      " \n",
      "Proprietary content. All rights reserved. Unauthorized use or distribution prohibited.   \n",
      "FORMULAS USED  \n",
      " \n",
      " \n",
      "  \n",
      " \n",
      " \n",
      " \n",
      " \n",
      " \n",
      " \n",
      " \n",
      "  \n",
      " \n",
      " \n",
      " \n",
      " \n",
      " \n",
      "  \n",
      "\n",
      "------------\n",
      "\n",
      "Create short questions that will prepare the coders or programmers for their tests.\n",
      "Make sure not to lose any important information.\n",
      "\n",
      "QUESTIONS:\n",
      "\u001b[0m\n",
      "\n",
      "\u001b[1m> Finished chain.\u001b[0m\n",
      "\n",
      "\u001b[1m> Finished chain.\u001b[0m\n",
      "1. What is the difference between machine learning, artificial intelligence, and deep learning?\n",
      "2. What are the objectives of the unit \"Introduction to Machine Learning\"?\n",
      "3. How is machine learning different from conventional programming methods?\n",
      "4. What are the types of statistics discussed in the material?\n",
      "5. How is variability measured in statistics?\n",
      "6. What are the major fields where machine learning is being applied?\n",
      "7. Explain the significance of machine learning in simplifying complex problems.\n",
      "8. How is inferential statistics different from descriptive statistics?\n",
      "9. What are the different methods of learning in machine learning?\n",
      "10. How does deep learning differ from traditional machine learning algorithms?\n"
     ]
    }
   ],
   "source": [
    "ques = ques_gen_chain.run(document_quiz_gen)\n",
    "\n",
    "print(ques)"
   ]
  },
  {
   "cell_type": "code",
   "execution_count": 39,
   "metadata": {},
   "outputs": [],
   "source": [
    "from langchain.embeddings.openai import OpenAIEmbeddings"
   ]
  },
  {
   "cell_type": "code",
   "execution_count": 40,
   "metadata": {},
   "outputs": [
    {
     "name": "stderr",
     "output_type": "stream",
     "text": [
      "c:\\Users\\pc\\anaconda3\\envs\\Quiz\\lib\\site-packages\\langchain_core\\_api\\deprecation.py:139: LangChainDeprecationWarning: The class `OpenAIEmbeddings` was deprecated in LangChain 0.0.9 and will be removed in 0.3.0. An updated version of the class exists in the langchain-openai package and should be used instead. To use it run `pip install -U langchain-openai` and import as `from langchain_openai import OpenAIEmbeddings`.\n",
      "  warn_deprecated(\n"
     ]
    }
   ],
   "source": [
    "embeddings = OpenAIEmbeddings()"
   ]
  },
  {
   "cell_type": "code",
   "execution_count": 41,
   "metadata": {},
   "outputs": [],
   "source": [
    "from langchain.vectorstores import FAISS"
   ]
  },
  {
   "cell_type": "code",
   "execution_count": 42,
   "metadata": {},
   "outputs": [],
   "source": [
    "vector_store = FAISS.from_documents(document_answer_gen, embeddings)"
   ]
  },
  {
   "cell_type": "code",
   "execution_count": 43,
   "metadata": {},
   "outputs": [
    {
     "data": {
      "text/plain": [
       "<langchain_community.vectorstores.faiss.FAISS at 0x206f9b7f400>"
      ]
     },
     "execution_count": 43,
     "metadata": {},
     "output_type": "execute_result"
    }
   ],
   "source": [
    "vector_store"
   ]
  },
  {
   "cell_type": "code",
   "execution_count": 44,
   "metadata": {},
   "outputs": [],
   "source": [
    "llm_answer_gen = ChatOpenAI(temperature=0.1, model=\"gpt-3.5-turbo\")"
   ]
  },
  {
   "cell_type": "code",
   "execution_count": 45,
   "metadata": {},
   "outputs": [
    {
     "data": {
      "text/plain": [
       "'1. What is the difference between machine learning, artificial intelligence, and deep learning?\\n2. What are the objectives of the unit \"Introduction to Machine Learning\"?\\n3. How is machine learning different from conventional programming methods?\\n4. What are the types of statistics discussed in the material?\\n5. How is variability measured in statistics?\\n6. What are the major fields where machine learning is being applied?\\n7. Explain the significance of machine learning in simplifying complex problems.\\n8. How is inferential statistics different from descriptive statistics?\\n9. What are the different methods of learning in machine learning?\\n10. How does deep learning differ from traditional machine learning algorithms?'"
      ]
     },
     "execution_count": 45,
     "metadata": {},
     "output_type": "execute_result"
    }
   ],
   "source": [
    "ques"
   ]
  },
  {
   "cell_type": "code",
   "execution_count": 46,
   "metadata": {},
   "outputs": [],
   "source": [
    "ques_list = ques.split(\"\\n\")"
   ]
  },
  {
   "cell_type": "code",
   "execution_count": 47,
   "metadata": {},
   "outputs": [
    {
     "data": {
      "text/plain": [
       "['1. What is the difference between machine learning, artificial intelligence, and deep learning?',\n",
       " '2. What are the objectives of the unit \"Introduction to Machine Learning\"?',\n",
       " '3. How is machine learning different from conventional programming methods?',\n",
       " '4. What are the types of statistics discussed in the material?',\n",
       " '5. How is variability measured in statistics?',\n",
       " '6. What are the major fields where machine learning is being applied?',\n",
       " '7. Explain the significance of machine learning in simplifying complex problems.',\n",
       " '8. How is inferential statistics different from descriptive statistics?',\n",
       " '9. What are the different methods of learning in machine learning?',\n",
       " '10. How does deep learning differ from traditional machine learning algorithms?']"
      ]
     },
     "execution_count": 47,
     "metadata": {},
     "output_type": "execute_result"
    }
   ],
   "source": [
    "ques_list"
   ]
  },
  {
   "cell_type": "code",
   "execution_count": 48,
   "metadata": {},
   "outputs": [],
   "source": [
    "from langchain.chains import RetrievalQA"
   ]
  },
  {
   "cell_type": "code",
   "execution_count": 49,
   "metadata": {},
   "outputs": [],
   "source": [
    "answer_generation_chain = RetrievalQA.from_chain_type(llm=llm_answer_gen, \n",
    "                                               chain_type=\"stuff\", \n",
    "                                               retriever=vector_store.as_retriever())"
   ]
  },
  {
   "cell_type": "code",
   "execution_count": 50,
   "metadata": {},
   "outputs": [
    {
     "name": "stdout",
     "output_type": "stream",
     "text": [
      "Question:  1. What is the difference between machine learning, artificial intelligence, and deep learning?\n"
     ]
    },
    {
     "ename": "AuthenticationError",
     "evalue": "Error code: 401 - {'error': {'message': 'Incorrect API key provided: sk-Ps8cR***************************************VbAk. You can find your API key at https://platform.openai.com/account/api-keys.', 'type': 'invalid_request_error', 'param': None, 'code': 'invalid_api_key'}}",
     "output_type": "error",
     "traceback": [
      "\u001b[1;31m---------------------------------------------------------------------------\u001b[0m",
      "\u001b[1;31mAuthenticationError\u001b[0m                       Traceback (most recent call last)",
      "Input \u001b[1;32mIn [50]\u001b[0m, in \u001b[0;36m<cell line: 2>\u001b[1;34m()\u001b[0m\n\u001b[0;32m      2\u001b[0m \u001b[38;5;28;01mfor\u001b[39;00m question \u001b[38;5;129;01min\u001b[39;00m ques_list:\n\u001b[0;32m      3\u001b[0m     \u001b[38;5;28mprint\u001b[39m(\u001b[38;5;124m\"\u001b[39m\u001b[38;5;124mQuestion: \u001b[39m\u001b[38;5;124m\"\u001b[39m, question)\n\u001b[1;32m----> 4\u001b[0m     answer \u001b[38;5;241m=\u001b[39m \u001b[43manswer_generation_chain\u001b[49m\u001b[38;5;241;43m.\u001b[39;49m\u001b[43mrun\u001b[49m\u001b[43m(\u001b[49m\u001b[43mquestion\u001b[49m\u001b[43m)\u001b[49m\n\u001b[0;32m      5\u001b[0m     \u001b[38;5;28mprint\u001b[39m(\u001b[38;5;124m\"\u001b[39m\u001b[38;5;124mAnswer: \u001b[39m\u001b[38;5;124m\"\u001b[39m, answer)\n\u001b[0;32m      6\u001b[0m     \u001b[38;5;28mprint\u001b[39m(\u001b[38;5;124m\"\u001b[39m\u001b[38;5;124m--------------------------------------------------\u001b[39m\u001b[38;5;130;01m\\\\\u001b[39;00m\u001b[38;5;124mn\u001b[39m\u001b[38;5;130;01m\\\\\u001b[39;00m\u001b[38;5;124mn\u001b[39m\u001b[38;5;124m\"\u001b[39m)\n",
      "File \u001b[1;32mc:\\Users\\pc\\anaconda3\\envs\\Quiz\\lib\\site-packages\\langchain_core\\_api\\deprecation.py:168\u001b[0m, in \u001b[0;36mdeprecated.<locals>.deprecate.<locals>.warning_emitting_wrapper\u001b[1;34m(*args, **kwargs)\u001b[0m\n\u001b[0;32m    166\u001b[0m     warned \u001b[38;5;241m=\u001b[39m \u001b[38;5;28;01mTrue\u001b[39;00m\n\u001b[0;32m    167\u001b[0m     emit_warning()\n\u001b[1;32m--> 168\u001b[0m \u001b[38;5;28;01mreturn\u001b[39;00m \u001b[43mwrapped\u001b[49m\u001b[43m(\u001b[49m\u001b[38;5;241;43m*\u001b[39;49m\u001b[43margs\u001b[49m\u001b[43m,\u001b[49m\u001b[43m \u001b[49m\u001b[38;5;241;43m*\u001b[39;49m\u001b[38;5;241;43m*\u001b[39;49m\u001b[43mkwargs\u001b[49m\u001b[43m)\u001b[49m\n",
      "File \u001b[1;32mc:\\Users\\pc\\anaconda3\\envs\\Quiz\\lib\\site-packages\\langchain\\chains\\base.py:600\u001b[0m, in \u001b[0;36mChain.run\u001b[1;34m(self, callbacks, tags, metadata, *args, **kwargs)\u001b[0m\n\u001b[0;32m    598\u001b[0m     \u001b[38;5;28;01mif\u001b[39;00m \u001b[38;5;28mlen\u001b[39m(args) \u001b[38;5;241m!=\u001b[39m \u001b[38;5;241m1\u001b[39m:\n\u001b[0;32m    599\u001b[0m         \u001b[38;5;28;01mraise\u001b[39;00m \u001b[38;5;167;01mValueError\u001b[39;00m(\u001b[38;5;124m\"\u001b[39m\u001b[38;5;124m`run` supports only one positional argument.\u001b[39m\u001b[38;5;124m\"\u001b[39m)\n\u001b[1;32m--> 600\u001b[0m     \u001b[38;5;28;01mreturn\u001b[39;00m \u001b[38;5;28;43mself\u001b[39;49m\u001b[43m(\u001b[49m\u001b[43margs\u001b[49m\u001b[43m[\u001b[49m\u001b[38;5;241;43m0\u001b[39;49m\u001b[43m]\u001b[49m\u001b[43m,\u001b[49m\u001b[43m \u001b[49m\u001b[43mcallbacks\u001b[49m\u001b[38;5;241;43m=\u001b[39;49m\u001b[43mcallbacks\u001b[49m\u001b[43m,\u001b[49m\u001b[43m \u001b[49m\u001b[43mtags\u001b[49m\u001b[38;5;241;43m=\u001b[39;49m\u001b[43mtags\u001b[49m\u001b[43m,\u001b[49m\u001b[43m \u001b[49m\u001b[43mmetadata\u001b[49m\u001b[38;5;241;43m=\u001b[39;49m\u001b[43mmetadata\u001b[49m\u001b[43m)\u001b[49m[\n\u001b[0;32m    601\u001b[0m         _output_key\n\u001b[0;32m    602\u001b[0m     ]\n\u001b[0;32m    604\u001b[0m \u001b[38;5;28;01mif\u001b[39;00m kwargs \u001b[38;5;129;01mand\u001b[39;00m \u001b[38;5;129;01mnot\u001b[39;00m args:\n\u001b[0;32m    605\u001b[0m     \u001b[38;5;28;01mreturn\u001b[39;00m \u001b[38;5;28mself\u001b[39m(kwargs, callbacks\u001b[38;5;241m=\u001b[39mcallbacks, tags\u001b[38;5;241m=\u001b[39mtags, metadata\u001b[38;5;241m=\u001b[39mmetadata)[\n\u001b[0;32m    606\u001b[0m         _output_key\n\u001b[0;32m    607\u001b[0m     ]\n",
      "File \u001b[1;32mc:\\Users\\pc\\anaconda3\\envs\\Quiz\\lib\\site-packages\\langchain_core\\_api\\deprecation.py:168\u001b[0m, in \u001b[0;36mdeprecated.<locals>.deprecate.<locals>.warning_emitting_wrapper\u001b[1;34m(*args, **kwargs)\u001b[0m\n\u001b[0;32m    166\u001b[0m     warned \u001b[38;5;241m=\u001b[39m \u001b[38;5;28;01mTrue\u001b[39;00m\n\u001b[0;32m    167\u001b[0m     emit_warning()\n\u001b[1;32m--> 168\u001b[0m \u001b[38;5;28;01mreturn\u001b[39;00m \u001b[43mwrapped\u001b[49m\u001b[43m(\u001b[49m\u001b[38;5;241;43m*\u001b[39;49m\u001b[43margs\u001b[49m\u001b[43m,\u001b[49m\u001b[43m \u001b[49m\u001b[38;5;241;43m*\u001b[39;49m\u001b[38;5;241;43m*\u001b[39;49m\u001b[43mkwargs\u001b[49m\u001b[43m)\u001b[49m\n",
      "File \u001b[1;32mc:\\Users\\pc\\anaconda3\\envs\\Quiz\\lib\\site-packages\\langchain\\chains\\base.py:383\u001b[0m, in \u001b[0;36mChain.__call__\u001b[1;34m(self, inputs, return_only_outputs, callbacks, tags, metadata, run_name, include_run_info)\u001b[0m\n\u001b[0;32m    351\u001b[0m \u001b[38;5;250m\u001b[39m\u001b[38;5;124;03m\"\"\"Execute the chain.\u001b[39;00m\n\u001b[0;32m    352\u001b[0m \n\u001b[0;32m    353\u001b[0m \u001b[38;5;124;03mArgs:\u001b[39;00m\n\u001b[1;32m   (...)\u001b[0m\n\u001b[0;32m    374\u001b[0m \u001b[38;5;124;03m        `Chain.output_keys`.\u001b[39;00m\n\u001b[0;32m    375\u001b[0m \u001b[38;5;124;03m\"\"\"\u001b[39;00m\n\u001b[0;32m    376\u001b[0m config \u001b[38;5;241m=\u001b[39m {\n\u001b[0;32m    377\u001b[0m     \u001b[38;5;124m\"\u001b[39m\u001b[38;5;124mcallbacks\u001b[39m\u001b[38;5;124m\"\u001b[39m: callbacks,\n\u001b[0;32m    378\u001b[0m     \u001b[38;5;124m\"\u001b[39m\u001b[38;5;124mtags\u001b[39m\u001b[38;5;124m\"\u001b[39m: tags,\n\u001b[0;32m    379\u001b[0m     \u001b[38;5;124m\"\u001b[39m\u001b[38;5;124mmetadata\u001b[39m\u001b[38;5;124m\"\u001b[39m: metadata,\n\u001b[0;32m    380\u001b[0m     \u001b[38;5;124m\"\u001b[39m\u001b[38;5;124mrun_name\u001b[39m\u001b[38;5;124m\"\u001b[39m: run_name,\n\u001b[0;32m    381\u001b[0m }\n\u001b[1;32m--> 383\u001b[0m \u001b[38;5;28;01mreturn\u001b[39;00m \u001b[38;5;28;43mself\u001b[39;49m\u001b[38;5;241;43m.\u001b[39;49m\u001b[43minvoke\u001b[49m\u001b[43m(\u001b[49m\n\u001b[0;32m    384\u001b[0m \u001b[43m    \u001b[49m\u001b[43minputs\u001b[49m\u001b[43m,\u001b[49m\n\u001b[0;32m    385\u001b[0m \u001b[43m    \u001b[49m\u001b[43mcast\u001b[49m\u001b[43m(\u001b[49m\u001b[43mRunnableConfig\u001b[49m\u001b[43m,\u001b[49m\u001b[43m \u001b[49m\u001b[43m{\u001b[49m\u001b[43mk\u001b[49m\u001b[43m:\u001b[49m\u001b[43m \u001b[49m\u001b[43mv\u001b[49m\u001b[43m \u001b[49m\u001b[38;5;28;43;01mfor\u001b[39;49;00m\u001b[43m \u001b[49m\u001b[43mk\u001b[49m\u001b[43m,\u001b[49m\u001b[43m \u001b[49m\u001b[43mv\u001b[49m\u001b[43m \u001b[49m\u001b[38;5;129;43;01min\u001b[39;49;00m\u001b[43m \u001b[49m\u001b[43mconfig\u001b[49m\u001b[38;5;241;43m.\u001b[39;49m\u001b[43mitems\u001b[49m\u001b[43m(\u001b[49m\u001b[43m)\u001b[49m\u001b[43m \u001b[49m\u001b[38;5;28;43;01mif\u001b[39;49;00m\u001b[43m \u001b[49m\u001b[43mv\u001b[49m\u001b[43m \u001b[49m\u001b[38;5;129;43;01mis\u001b[39;49;00m\u001b[43m \u001b[49m\u001b[38;5;129;43;01mnot\u001b[39;49;00m\u001b[43m \u001b[49m\u001b[38;5;28;43;01mNone\u001b[39;49;00m\u001b[43m}\u001b[49m\u001b[43m)\u001b[49m\u001b[43m,\u001b[49m\n\u001b[0;32m    386\u001b[0m \u001b[43m    \u001b[49m\u001b[43mreturn_only_outputs\u001b[49m\u001b[38;5;241;43m=\u001b[39;49m\u001b[43mreturn_only_outputs\u001b[49m\u001b[43m,\u001b[49m\n\u001b[0;32m    387\u001b[0m \u001b[43m    \u001b[49m\u001b[43minclude_run_info\u001b[49m\u001b[38;5;241;43m=\u001b[39;49m\u001b[43minclude_run_info\u001b[49m\u001b[43m,\u001b[49m\n\u001b[0;32m    388\u001b[0m \u001b[43m\u001b[49m\u001b[43m)\u001b[49m\n",
      "File \u001b[1;32mc:\\Users\\pc\\anaconda3\\envs\\Quiz\\lib\\site-packages\\langchain\\chains\\base.py:166\u001b[0m, in \u001b[0;36mChain.invoke\u001b[1;34m(self, input, config, **kwargs)\u001b[0m\n\u001b[0;32m    164\u001b[0m \u001b[38;5;28;01mexcept\u001b[39;00m \u001b[38;5;167;01mBaseException\u001b[39;00m \u001b[38;5;28;01mas\u001b[39;00m e:\n\u001b[0;32m    165\u001b[0m     run_manager\u001b[38;5;241m.\u001b[39mon_chain_error(e)\n\u001b[1;32m--> 166\u001b[0m     \u001b[38;5;28;01mraise\u001b[39;00m e\n\u001b[0;32m    167\u001b[0m run_manager\u001b[38;5;241m.\u001b[39mon_chain_end(outputs)\n\u001b[0;32m    169\u001b[0m \u001b[38;5;28;01mif\u001b[39;00m include_run_info:\n",
      "File \u001b[1;32mc:\\Users\\pc\\anaconda3\\envs\\Quiz\\lib\\site-packages\\langchain\\chains\\base.py:156\u001b[0m, in \u001b[0;36mChain.invoke\u001b[1;34m(self, input, config, **kwargs)\u001b[0m\n\u001b[0;32m    153\u001b[0m \u001b[38;5;28;01mtry\u001b[39;00m:\n\u001b[0;32m    154\u001b[0m     \u001b[38;5;28mself\u001b[39m\u001b[38;5;241m.\u001b[39m_validate_inputs(inputs)\n\u001b[0;32m    155\u001b[0m     outputs \u001b[38;5;241m=\u001b[39m (\n\u001b[1;32m--> 156\u001b[0m         \u001b[38;5;28;43mself\u001b[39;49m\u001b[38;5;241;43m.\u001b[39;49m\u001b[43m_call\u001b[49m\u001b[43m(\u001b[49m\u001b[43minputs\u001b[49m\u001b[43m,\u001b[49m\u001b[43m \u001b[49m\u001b[43mrun_manager\u001b[49m\u001b[38;5;241;43m=\u001b[39;49m\u001b[43mrun_manager\u001b[49m\u001b[43m)\u001b[49m\n\u001b[0;32m    157\u001b[0m         \u001b[38;5;28;01mif\u001b[39;00m new_arg_supported\n\u001b[0;32m    158\u001b[0m         \u001b[38;5;28;01melse\u001b[39;00m \u001b[38;5;28mself\u001b[39m\u001b[38;5;241m.\u001b[39m_call(inputs)\n\u001b[0;32m    159\u001b[0m     )\n\u001b[0;32m    161\u001b[0m     final_outputs: Dict[\u001b[38;5;28mstr\u001b[39m, Any] \u001b[38;5;241m=\u001b[39m \u001b[38;5;28mself\u001b[39m\u001b[38;5;241m.\u001b[39mprep_outputs(\n\u001b[0;32m    162\u001b[0m         inputs, outputs, return_only_outputs\n\u001b[0;32m    163\u001b[0m     )\n\u001b[0;32m    164\u001b[0m \u001b[38;5;28;01mexcept\u001b[39;00m \u001b[38;5;167;01mBaseException\u001b[39;00m \u001b[38;5;28;01mas\u001b[39;00m e:\n",
      "File \u001b[1;32mc:\\Users\\pc\\anaconda3\\envs\\Quiz\\lib\\site-packages\\langchain\\chains\\retrieval_qa\\base.py:142\u001b[0m, in \u001b[0;36mBaseRetrievalQA._call\u001b[1;34m(self, inputs, run_manager)\u001b[0m\n\u001b[0;32m    138\u001b[0m accepts_run_manager \u001b[38;5;241m=\u001b[39m (\n\u001b[0;32m    139\u001b[0m     \u001b[38;5;124m\"\u001b[39m\u001b[38;5;124mrun_manager\u001b[39m\u001b[38;5;124m\"\u001b[39m \u001b[38;5;129;01min\u001b[39;00m inspect\u001b[38;5;241m.\u001b[39msignature(\u001b[38;5;28mself\u001b[39m\u001b[38;5;241m.\u001b[39m_get_docs)\u001b[38;5;241m.\u001b[39mparameters\n\u001b[0;32m    140\u001b[0m )\n\u001b[0;32m    141\u001b[0m \u001b[38;5;28;01mif\u001b[39;00m accepts_run_manager:\n\u001b[1;32m--> 142\u001b[0m     docs \u001b[38;5;241m=\u001b[39m \u001b[38;5;28;43mself\u001b[39;49m\u001b[38;5;241;43m.\u001b[39;49m\u001b[43m_get_docs\u001b[49m\u001b[43m(\u001b[49m\u001b[43mquestion\u001b[49m\u001b[43m,\u001b[49m\u001b[43m \u001b[49m\u001b[43mrun_manager\u001b[49m\u001b[38;5;241;43m=\u001b[39;49m\u001b[43m_run_manager\u001b[49m\u001b[43m)\u001b[49m\n\u001b[0;32m    143\u001b[0m \u001b[38;5;28;01melse\u001b[39;00m:\n\u001b[0;32m    144\u001b[0m     docs \u001b[38;5;241m=\u001b[39m \u001b[38;5;28mself\u001b[39m\u001b[38;5;241m.\u001b[39m_get_docs(question)  \u001b[38;5;66;03m# type: ignore[call-arg]\u001b[39;00m\n",
      "File \u001b[1;32mc:\\Users\\pc\\anaconda3\\envs\\Quiz\\lib\\site-packages\\langchain\\chains\\retrieval_qa\\base.py:254\u001b[0m, in \u001b[0;36mRetrievalQA._get_docs\u001b[1;34m(self, question, run_manager)\u001b[0m\n\u001b[0;32m    247\u001b[0m \u001b[38;5;28;01mdef\u001b[39;00m \u001b[38;5;21m_get_docs\u001b[39m(\n\u001b[0;32m    248\u001b[0m     \u001b[38;5;28mself\u001b[39m,\n\u001b[0;32m    249\u001b[0m     question: \u001b[38;5;28mstr\u001b[39m,\n\u001b[0;32m    250\u001b[0m     \u001b[38;5;241m*\u001b[39m,\n\u001b[0;32m    251\u001b[0m     run_manager: CallbackManagerForChainRun,\n\u001b[0;32m    252\u001b[0m ) \u001b[38;5;241m-\u001b[39m\u001b[38;5;241m>\u001b[39m List[Document]:\n\u001b[0;32m    253\u001b[0m \u001b[38;5;250m    \u001b[39m\u001b[38;5;124;03m\"\"\"Get docs.\"\"\"\u001b[39;00m\n\u001b[1;32m--> 254\u001b[0m     \u001b[38;5;28;01mreturn\u001b[39;00m \u001b[38;5;28;43mself\u001b[39;49m\u001b[38;5;241;43m.\u001b[39;49m\u001b[43mretriever\u001b[49m\u001b[38;5;241;43m.\u001b[39;49m\u001b[43minvoke\u001b[49m\u001b[43m(\u001b[49m\n\u001b[0;32m    255\u001b[0m \u001b[43m        \u001b[49m\u001b[43mquestion\u001b[49m\u001b[43m,\u001b[49m\u001b[43m \u001b[49m\u001b[43mconfig\u001b[49m\u001b[38;5;241;43m=\u001b[39;49m\u001b[43m{\u001b[49m\u001b[38;5;124;43m\"\u001b[39;49m\u001b[38;5;124;43mcallbacks\u001b[39;49m\u001b[38;5;124;43m\"\u001b[39;49m\u001b[43m:\u001b[49m\u001b[43m \u001b[49m\u001b[43mrun_manager\u001b[49m\u001b[38;5;241;43m.\u001b[39;49m\u001b[43mget_child\u001b[49m\u001b[43m(\u001b[49m\u001b[43m)\u001b[49m\u001b[43m}\u001b[49m\n\u001b[0;32m    256\u001b[0m \u001b[43m    \u001b[49m\u001b[43m)\u001b[49m\n",
      "File \u001b[1;32mc:\\Users\\pc\\anaconda3\\envs\\Quiz\\lib\\site-packages\\langchain_core\\retrievers.py:222\u001b[0m, in \u001b[0;36mBaseRetriever.invoke\u001b[1;34m(self, input, config, **kwargs)\u001b[0m\n\u001b[0;32m    220\u001b[0m \u001b[38;5;28;01mexcept\u001b[39;00m \u001b[38;5;167;01mException\u001b[39;00m \u001b[38;5;28;01mas\u001b[39;00m e:\n\u001b[0;32m    221\u001b[0m     run_manager\u001b[38;5;241m.\u001b[39mon_retriever_error(e)\n\u001b[1;32m--> 222\u001b[0m     \u001b[38;5;28;01mraise\u001b[39;00m e\n\u001b[0;32m    223\u001b[0m \u001b[38;5;28;01melse\u001b[39;00m:\n\u001b[0;32m    224\u001b[0m     run_manager\u001b[38;5;241m.\u001b[39mon_retriever_end(\n\u001b[0;32m    225\u001b[0m         result,\n\u001b[0;32m    226\u001b[0m     )\n",
      "File \u001b[1;32mc:\\Users\\pc\\anaconda3\\envs\\Quiz\\lib\\site-packages\\langchain_core\\retrievers.py:215\u001b[0m, in \u001b[0;36mBaseRetriever.invoke\u001b[1;34m(self, input, config, **kwargs)\u001b[0m\n\u001b[0;32m    213\u001b[0m _kwargs \u001b[38;5;241m=\u001b[39m kwargs \u001b[38;5;28;01mif\u001b[39;00m \u001b[38;5;28mself\u001b[39m\u001b[38;5;241m.\u001b[39m_expects_other_args \u001b[38;5;28;01melse\u001b[39;00m {}\n\u001b[0;32m    214\u001b[0m \u001b[38;5;28;01mif\u001b[39;00m \u001b[38;5;28mself\u001b[39m\u001b[38;5;241m.\u001b[39m_new_arg_supported:\n\u001b[1;32m--> 215\u001b[0m     result \u001b[38;5;241m=\u001b[39m \u001b[38;5;28;43mself\u001b[39;49m\u001b[38;5;241;43m.\u001b[39;49m\u001b[43m_get_relevant_documents\u001b[49m\u001b[43m(\u001b[49m\n\u001b[0;32m    216\u001b[0m \u001b[43m        \u001b[49m\u001b[38;5;28;43minput\u001b[39;49m\u001b[43m,\u001b[49m\u001b[43m \u001b[49m\u001b[43mrun_manager\u001b[49m\u001b[38;5;241;43m=\u001b[39;49m\u001b[43mrun_manager\u001b[49m\u001b[43m,\u001b[49m\u001b[43m \u001b[49m\u001b[38;5;241;43m*\u001b[39;49m\u001b[38;5;241;43m*\u001b[39;49m\u001b[43m_kwargs\u001b[49m\n\u001b[0;32m    217\u001b[0m \u001b[43m    \u001b[49m\u001b[43m)\u001b[49m\n\u001b[0;32m    218\u001b[0m \u001b[38;5;28;01melse\u001b[39;00m:\n\u001b[0;32m    219\u001b[0m     result \u001b[38;5;241m=\u001b[39m \u001b[38;5;28mself\u001b[39m\u001b[38;5;241m.\u001b[39m_get_relevant_documents(\u001b[38;5;28minput\u001b[39m, \u001b[38;5;241m*\u001b[39m\u001b[38;5;241m*\u001b[39m_kwargs)\n",
      "File \u001b[1;32mc:\\Users\\pc\\anaconda3\\envs\\Quiz\\lib\\site-packages\\langchain_core\\vectorstores.py:853\u001b[0m, in \u001b[0;36mVectorStoreRetriever._get_relevant_documents\u001b[1;34m(self, query, run_manager)\u001b[0m\n\u001b[0;32m    849\u001b[0m \u001b[38;5;28;01mdef\u001b[39;00m \u001b[38;5;21m_get_relevant_documents\u001b[39m(\n\u001b[0;32m    850\u001b[0m     \u001b[38;5;28mself\u001b[39m, query: \u001b[38;5;28mstr\u001b[39m, \u001b[38;5;241m*\u001b[39m, run_manager: CallbackManagerForRetrieverRun\n\u001b[0;32m    851\u001b[0m ) \u001b[38;5;241m-\u001b[39m\u001b[38;5;241m>\u001b[39m List[Document]:\n\u001b[0;32m    852\u001b[0m     \u001b[38;5;28;01mif\u001b[39;00m \u001b[38;5;28mself\u001b[39m\u001b[38;5;241m.\u001b[39msearch_type \u001b[38;5;241m==\u001b[39m \u001b[38;5;124m\"\u001b[39m\u001b[38;5;124msimilarity\u001b[39m\u001b[38;5;124m\"\u001b[39m:\n\u001b[1;32m--> 853\u001b[0m         docs \u001b[38;5;241m=\u001b[39m \u001b[38;5;28;43mself\u001b[39;49m\u001b[38;5;241;43m.\u001b[39;49m\u001b[43mvectorstore\u001b[49m\u001b[38;5;241;43m.\u001b[39;49m\u001b[43msimilarity_search\u001b[49m\u001b[43m(\u001b[49m\u001b[43mquery\u001b[49m\u001b[43m,\u001b[49m\u001b[43m \u001b[49m\u001b[38;5;241;43m*\u001b[39;49m\u001b[38;5;241;43m*\u001b[39;49m\u001b[38;5;28;43mself\u001b[39;49m\u001b[38;5;241;43m.\u001b[39;49m\u001b[43msearch_kwargs\u001b[49m\u001b[43m)\u001b[49m\n\u001b[0;32m    854\u001b[0m     \u001b[38;5;28;01melif\u001b[39;00m \u001b[38;5;28mself\u001b[39m\u001b[38;5;241m.\u001b[39msearch_type \u001b[38;5;241m==\u001b[39m \u001b[38;5;124m\"\u001b[39m\u001b[38;5;124msimilarity_score_threshold\u001b[39m\u001b[38;5;124m\"\u001b[39m:\n\u001b[0;32m    855\u001b[0m         docs_and_similarities \u001b[38;5;241m=\u001b[39m (\n\u001b[0;32m    856\u001b[0m             \u001b[38;5;28mself\u001b[39m\u001b[38;5;241m.\u001b[39mvectorstore\u001b[38;5;241m.\u001b[39msimilarity_search_with_relevance_scores(\n\u001b[0;32m    857\u001b[0m                 query, \u001b[38;5;241m*\u001b[39m\u001b[38;5;241m*\u001b[39m\u001b[38;5;28mself\u001b[39m\u001b[38;5;241m.\u001b[39msearch_kwargs\n\u001b[0;32m    858\u001b[0m             )\n\u001b[0;32m    859\u001b[0m         )\n",
      "File \u001b[1;32mc:\\Users\\pc\\anaconda3\\envs\\Quiz\\lib\\site-packages\\langchain_community\\vectorstores\\faiss.py:530\u001b[0m, in \u001b[0;36mFAISS.similarity_search\u001b[1;34m(self, query, k, filter, fetch_k, **kwargs)\u001b[0m\n\u001b[0;32m    510\u001b[0m \u001b[38;5;28;01mdef\u001b[39;00m \u001b[38;5;21msimilarity_search\u001b[39m(\n\u001b[0;32m    511\u001b[0m     \u001b[38;5;28mself\u001b[39m,\n\u001b[0;32m    512\u001b[0m     query: \u001b[38;5;28mstr\u001b[39m,\n\u001b[1;32m   (...)\u001b[0m\n\u001b[0;32m    516\u001b[0m     \u001b[38;5;241m*\u001b[39m\u001b[38;5;241m*\u001b[39mkwargs: Any,\n\u001b[0;32m    517\u001b[0m ) \u001b[38;5;241m-\u001b[39m\u001b[38;5;241m>\u001b[39m List[Document]:\n\u001b[0;32m    518\u001b[0m \u001b[38;5;250m    \u001b[39m\u001b[38;5;124;03m\"\"\"Return docs most similar to query.\u001b[39;00m\n\u001b[0;32m    519\u001b[0m \n\u001b[0;32m    520\u001b[0m \u001b[38;5;124;03m    Args:\u001b[39;00m\n\u001b[1;32m   (...)\u001b[0m\n\u001b[0;32m    528\u001b[0m \u001b[38;5;124;03m        List of Documents most similar to the query.\u001b[39;00m\n\u001b[0;32m    529\u001b[0m \u001b[38;5;124;03m    \"\"\"\u001b[39;00m\n\u001b[1;32m--> 530\u001b[0m     docs_and_scores \u001b[38;5;241m=\u001b[39m \u001b[38;5;28;43mself\u001b[39;49m\u001b[38;5;241;43m.\u001b[39;49m\u001b[43msimilarity_search_with_score\u001b[49m\u001b[43m(\u001b[49m\n\u001b[0;32m    531\u001b[0m \u001b[43m        \u001b[49m\u001b[43mquery\u001b[49m\u001b[43m,\u001b[49m\u001b[43m \u001b[49m\u001b[43mk\u001b[49m\u001b[43m,\u001b[49m\u001b[43m \u001b[49m\u001b[38;5;28;43mfilter\u001b[39;49m\u001b[38;5;241;43m=\u001b[39;49m\u001b[38;5;28;43mfilter\u001b[39;49m\u001b[43m,\u001b[49m\u001b[43m \u001b[49m\u001b[43mfetch_k\u001b[49m\u001b[38;5;241;43m=\u001b[39;49m\u001b[43mfetch_k\u001b[49m\u001b[43m,\u001b[49m\u001b[43m \u001b[49m\u001b[38;5;241;43m*\u001b[39;49m\u001b[38;5;241;43m*\u001b[39;49m\u001b[43mkwargs\u001b[49m\n\u001b[0;32m    532\u001b[0m \u001b[43m    \u001b[49m\u001b[43m)\u001b[49m\n\u001b[0;32m    533\u001b[0m     \u001b[38;5;28;01mreturn\u001b[39;00m [doc \u001b[38;5;28;01mfor\u001b[39;00m doc, _ \u001b[38;5;129;01min\u001b[39;00m docs_and_scores]\n",
      "File \u001b[1;32mc:\\Users\\pc\\anaconda3\\envs\\Quiz\\lib\\site-packages\\langchain_community\\vectorstores\\faiss.py:402\u001b[0m, in \u001b[0;36mFAISS.similarity_search_with_score\u001b[1;34m(self, query, k, filter, fetch_k, **kwargs)\u001b[0m\n\u001b[0;32m    378\u001b[0m \u001b[38;5;28;01mdef\u001b[39;00m \u001b[38;5;21msimilarity_search_with_score\u001b[39m(\n\u001b[0;32m    379\u001b[0m     \u001b[38;5;28mself\u001b[39m,\n\u001b[0;32m    380\u001b[0m     query: \u001b[38;5;28mstr\u001b[39m,\n\u001b[1;32m   (...)\u001b[0m\n\u001b[0;32m    384\u001b[0m     \u001b[38;5;241m*\u001b[39m\u001b[38;5;241m*\u001b[39mkwargs: Any,\n\u001b[0;32m    385\u001b[0m ) \u001b[38;5;241m-\u001b[39m\u001b[38;5;241m>\u001b[39m List[Tuple[Document, \u001b[38;5;28mfloat\u001b[39m]]:\n\u001b[0;32m    386\u001b[0m \u001b[38;5;250m    \u001b[39m\u001b[38;5;124;03m\"\"\"Return docs most similar to query.\u001b[39;00m\n\u001b[0;32m    387\u001b[0m \n\u001b[0;32m    388\u001b[0m \u001b[38;5;124;03m    Args:\u001b[39;00m\n\u001b[1;32m   (...)\u001b[0m\n\u001b[0;32m    400\u001b[0m \u001b[38;5;124;03m        L2 distance in float. Lower score represents more similarity.\u001b[39;00m\n\u001b[0;32m    401\u001b[0m \u001b[38;5;124;03m    \"\"\"\u001b[39;00m\n\u001b[1;32m--> 402\u001b[0m     embedding \u001b[38;5;241m=\u001b[39m \u001b[38;5;28;43mself\u001b[39;49m\u001b[38;5;241;43m.\u001b[39;49m\u001b[43m_embed_query\u001b[49m\u001b[43m(\u001b[49m\u001b[43mquery\u001b[49m\u001b[43m)\u001b[49m\n\u001b[0;32m    403\u001b[0m     docs \u001b[38;5;241m=\u001b[39m \u001b[38;5;28mself\u001b[39m\u001b[38;5;241m.\u001b[39msimilarity_search_with_score_by_vector(\n\u001b[0;32m    404\u001b[0m         embedding,\n\u001b[0;32m    405\u001b[0m         k,\n\u001b[1;32m   (...)\u001b[0m\n\u001b[0;32m    408\u001b[0m         \u001b[38;5;241m*\u001b[39m\u001b[38;5;241m*\u001b[39mkwargs,\n\u001b[0;32m    409\u001b[0m     )\n\u001b[0;32m    410\u001b[0m     \u001b[38;5;28;01mreturn\u001b[39;00m docs\n",
      "File \u001b[1;32mc:\\Users\\pc\\anaconda3\\envs\\Quiz\\lib\\site-packages\\langchain_community\\vectorstores\\faiss.py:154\u001b[0m, in \u001b[0;36mFAISS._embed_query\u001b[1;34m(self, text)\u001b[0m\n\u001b[0;32m    152\u001b[0m \u001b[38;5;28;01mdef\u001b[39;00m \u001b[38;5;21m_embed_query\u001b[39m(\u001b[38;5;28mself\u001b[39m, text: \u001b[38;5;28mstr\u001b[39m) \u001b[38;5;241m-\u001b[39m\u001b[38;5;241m>\u001b[39m List[\u001b[38;5;28mfloat\u001b[39m]:\n\u001b[0;32m    153\u001b[0m     \u001b[38;5;28;01mif\u001b[39;00m \u001b[38;5;28misinstance\u001b[39m(\u001b[38;5;28mself\u001b[39m\u001b[38;5;241m.\u001b[39membedding_function, Embeddings):\n\u001b[1;32m--> 154\u001b[0m         \u001b[38;5;28;01mreturn\u001b[39;00m \u001b[38;5;28;43mself\u001b[39;49m\u001b[38;5;241;43m.\u001b[39;49m\u001b[43membedding_function\u001b[49m\u001b[38;5;241;43m.\u001b[39;49m\u001b[43membed_query\u001b[49m\u001b[43m(\u001b[49m\u001b[43mtext\u001b[49m\u001b[43m)\u001b[49m\n\u001b[0;32m    155\u001b[0m     \u001b[38;5;28;01melse\u001b[39;00m:\n\u001b[0;32m    156\u001b[0m         \u001b[38;5;28;01mreturn\u001b[39;00m \u001b[38;5;28mself\u001b[39m\u001b[38;5;241m.\u001b[39membedding_function(text)\n",
      "File \u001b[1;32mc:\\Users\\pc\\anaconda3\\envs\\Quiz\\lib\\site-packages\\langchain_community\\embeddings\\openai.py:697\u001b[0m, in \u001b[0;36mOpenAIEmbeddings.embed_query\u001b[1;34m(self, text)\u001b[0m\n\u001b[0;32m    688\u001b[0m \u001b[38;5;28;01mdef\u001b[39;00m \u001b[38;5;21membed_query\u001b[39m(\u001b[38;5;28mself\u001b[39m, text: \u001b[38;5;28mstr\u001b[39m) \u001b[38;5;241m-\u001b[39m\u001b[38;5;241m>\u001b[39m List[\u001b[38;5;28mfloat\u001b[39m]:\n\u001b[0;32m    689\u001b[0m \u001b[38;5;250m    \u001b[39m\u001b[38;5;124;03m\"\"\"Call out to OpenAI's embedding endpoint for embedding query text.\u001b[39;00m\n\u001b[0;32m    690\u001b[0m \n\u001b[0;32m    691\u001b[0m \u001b[38;5;124;03m    Args:\u001b[39;00m\n\u001b[1;32m   (...)\u001b[0m\n\u001b[0;32m    695\u001b[0m \u001b[38;5;124;03m        Embedding for the text.\u001b[39;00m\n\u001b[0;32m    696\u001b[0m \u001b[38;5;124;03m    \"\"\"\u001b[39;00m\n\u001b[1;32m--> 697\u001b[0m     \u001b[38;5;28;01mreturn\u001b[39;00m \u001b[38;5;28;43mself\u001b[39;49m\u001b[38;5;241;43m.\u001b[39;49m\u001b[43membed_documents\u001b[49m\u001b[43m(\u001b[49m\u001b[43m[\u001b[49m\u001b[43mtext\u001b[49m\u001b[43m]\u001b[49m\u001b[43m)\u001b[49m[\u001b[38;5;241m0\u001b[39m]\n",
      "File \u001b[1;32mc:\\Users\\pc\\anaconda3\\envs\\Quiz\\lib\\site-packages\\langchain_community\\embeddings\\openai.py:668\u001b[0m, in \u001b[0;36mOpenAIEmbeddings.embed_documents\u001b[1;34m(self, texts, chunk_size)\u001b[0m\n\u001b[0;32m    665\u001b[0m \u001b[38;5;66;03m# NOTE: to keep things simple, we assume the list may contain texts longer\u001b[39;00m\n\u001b[0;32m    666\u001b[0m \u001b[38;5;66;03m#       than the maximum context and use length-safe embedding function.\u001b[39;00m\n\u001b[0;32m    667\u001b[0m engine \u001b[38;5;241m=\u001b[39m cast(\u001b[38;5;28mstr\u001b[39m, \u001b[38;5;28mself\u001b[39m\u001b[38;5;241m.\u001b[39mdeployment)\n\u001b[1;32m--> 668\u001b[0m \u001b[38;5;28;01mreturn\u001b[39;00m \u001b[38;5;28;43mself\u001b[39;49m\u001b[38;5;241;43m.\u001b[39;49m\u001b[43m_get_len_safe_embeddings\u001b[49m\u001b[43m(\u001b[49m\u001b[43mtexts\u001b[49m\u001b[43m,\u001b[49m\u001b[43m \u001b[49m\u001b[43mengine\u001b[49m\u001b[38;5;241;43m=\u001b[39;49m\u001b[43mengine\u001b[49m\u001b[43m)\u001b[49m\n",
      "File \u001b[1;32mc:\\Users\\pc\\anaconda3\\envs\\Quiz\\lib\\site-packages\\langchain_community\\embeddings\\openai.py:494\u001b[0m, in \u001b[0;36mOpenAIEmbeddings._get_len_safe_embeddings\u001b[1;34m(self, texts, engine, chunk_size)\u001b[0m\n\u001b[0;32m    492\u001b[0m batched_embeddings: List[List[\u001b[38;5;28mfloat\u001b[39m]] \u001b[38;5;241m=\u001b[39m []\n\u001b[0;32m    493\u001b[0m \u001b[38;5;28;01mfor\u001b[39;00m i \u001b[38;5;129;01min\u001b[39;00m _iter:\n\u001b[1;32m--> 494\u001b[0m     response \u001b[38;5;241m=\u001b[39m \u001b[43membed_with_retry\u001b[49m\u001b[43m(\u001b[49m\n\u001b[0;32m    495\u001b[0m \u001b[43m        \u001b[49m\u001b[38;5;28;43mself\u001b[39;49m\u001b[43m,\u001b[49m\n\u001b[0;32m    496\u001b[0m \u001b[43m        \u001b[49m\u001b[38;5;28;43minput\u001b[39;49m\u001b[38;5;241;43m=\u001b[39;49m\u001b[43mtokens\u001b[49m\u001b[43m[\u001b[49m\u001b[43mi\u001b[49m\u001b[43m \u001b[49m\u001b[43m:\u001b[49m\u001b[43m \u001b[49m\u001b[43mi\u001b[49m\u001b[43m \u001b[49m\u001b[38;5;241;43m+\u001b[39;49m\u001b[43m \u001b[49m\u001b[43m_chunk_size\u001b[49m\u001b[43m]\u001b[49m\u001b[43m,\u001b[49m\n\u001b[0;32m    497\u001b[0m \u001b[43m        \u001b[49m\u001b[38;5;241;43m*\u001b[39;49m\u001b[38;5;241;43m*\u001b[39;49m\u001b[38;5;28;43mself\u001b[39;49m\u001b[38;5;241;43m.\u001b[39;49m\u001b[43m_invocation_params\u001b[49m\u001b[43m,\u001b[49m\n\u001b[0;32m    498\u001b[0m \u001b[43m    \u001b[49m\u001b[43m)\u001b[49m\n\u001b[0;32m    499\u001b[0m     \u001b[38;5;28;01mif\u001b[39;00m \u001b[38;5;129;01mnot\u001b[39;00m \u001b[38;5;28misinstance\u001b[39m(response, \u001b[38;5;28mdict\u001b[39m):\n\u001b[0;32m    500\u001b[0m         response \u001b[38;5;241m=\u001b[39m response\u001b[38;5;241m.\u001b[39mdict()\n",
      "File \u001b[1;32mc:\\Users\\pc\\anaconda3\\envs\\Quiz\\lib\\site-packages\\langchain_community\\embeddings\\openai.py:116\u001b[0m, in \u001b[0;36membed_with_retry\u001b[1;34m(embeddings, **kwargs)\u001b[0m\n\u001b[0;32m    114\u001b[0m \u001b[38;5;250m\u001b[39m\u001b[38;5;124;03m\"\"\"Use tenacity to retry the embedding call.\"\"\"\u001b[39;00m\n\u001b[0;32m    115\u001b[0m \u001b[38;5;28;01mif\u001b[39;00m is_openai_v1():\n\u001b[1;32m--> 116\u001b[0m     \u001b[38;5;28;01mreturn\u001b[39;00m \u001b[43membeddings\u001b[49m\u001b[38;5;241;43m.\u001b[39;49m\u001b[43mclient\u001b[49m\u001b[38;5;241;43m.\u001b[39;49m\u001b[43mcreate\u001b[49m\u001b[43m(\u001b[49m\u001b[38;5;241;43m*\u001b[39;49m\u001b[38;5;241;43m*\u001b[39;49m\u001b[43mkwargs\u001b[49m\u001b[43m)\u001b[49m\n\u001b[0;32m    117\u001b[0m retry_decorator \u001b[38;5;241m=\u001b[39m _create_retry_decorator(embeddings)\n\u001b[0;32m    119\u001b[0m \u001b[38;5;129m@retry_decorator\u001b[39m\n\u001b[0;32m    120\u001b[0m \u001b[38;5;28;01mdef\u001b[39;00m \u001b[38;5;21m_embed_with_retry\u001b[39m(\u001b[38;5;241m*\u001b[39m\u001b[38;5;241m*\u001b[39mkwargs: Any) \u001b[38;5;241m-\u001b[39m\u001b[38;5;241m>\u001b[39m Any:\n",
      "File \u001b[1;32mc:\\Users\\pc\\anaconda3\\envs\\Quiz\\lib\\site-packages\\openai\\resources\\embeddings.py:114\u001b[0m, in \u001b[0;36mEmbeddings.create\u001b[1;34m(self, input, model, dimensions, encoding_format, user, extra_headers, extra_query, extra_body, timeout)\u001b[0m\n\u001b[0;32m    108\u001b[0m         embedding\u001b[38;5;241m.\u001b[39membedding \u001b[38;5;241m=\u001b[39m np\u001b[38;5;241m.\u001b[39mfrombuffer(  \u001b[38;5;66;03m# type: ignore[no-untyped-call]\u001b[39;00m\n\u001b[0;32m    109\u001b[0m             base64\u001b[38;5;241m.\u001b[39mb64decode(data), dtype\u001b[38;5;241m=\u001b[39m\u001b[38;5;124m\"\u001b[39m\u001b[38;5;124mfloat32\u001b[39m\u001b[38;5;124m\"\u001b[39m\n\u001b[0;32m    110\u001b[0m         )\u001b[38;5;241m.\u001b[39mtolist()\n\u001b[0;32m    112\u001b[0m     \u001b[38;5;28;01mreturn\u001b[39;00m obj\n\u001b[1;32m--> 114\u001b[0m \u001b[38;5;28;01mreturn\u001b[39;00m \u001b[38;5;28;43mself\u001b[39;49m\u001b[38;5;241;43m.\u001b[39;49m\u001b[43m_post\u001b[49m\u001b[43m(\u001b[49m\n\u001b[0;32m    115\u001b[0m \u001b[43m    \u001b[49m\u001b[38;5;124;43m\"\u001b[39;49m\u001b[38;5;124;43m/embeddings\u001b[39;49m\u001b[38;5;124;43m\"\u001b[39;49m\u001b[43m,\u001b[49m\n\u001b[0;32m    116\u001b[0m \u001b[43m    \u001b[49m\u001b[43mbody\u001b[49m\u001b[38;5;241;43m=\u001b[39;49m\u001b[43mmaybe_transform\u001b[49m\u001b[43m(\u001b[49m\u001b[43mparams\u001b[49m\u001b[43m,\u001b[49m\u001b[43m \u001b[49m\u001b[43membedding_create_params\u001b[49m\u001b[38;5;241;43m.\u001b[39;49m\u001b[43mEmbeddingCreateParams\u001b[49m\u001b[43m)\u001b[49m\u001b[43m,\u001b[49m\n\u001b[0;32m    117\u001b[0m \u001b[43m    \u001b[49m\u001b[43moptions\u001b[49m\u001b[38;5;241;43m=\u001b[39;49m\u001b[43mmake_request_options\u001b[49m\u001b[43m(\u001b[49m\n\u001b[0;32m    118\u001b[0m \u001b[43m        \u001b[49m\u001b[43mextra_headers\u001b[49m\u001b[38;5;241;43m=\u001b[39;49m\u001b[43mextra_headers\u001b[49m\u001b[43m,\u001b[49m\n\u001b[0;32m    119\u001b[0m \u001b[43m        \u001b[49m\u001b[43mextra_query\u001b[49m\u001b[38;5;241;43m=\u001b[39;49m\u001b[43mextra_query\u001b[49m\u001b[43m,\u001b[49m\n\u001b[0;32m    120\u001b[0m \u001b[43m        \u001b[49m\u001b[43mextra_body\u001b[49m\u001b[38;5;241;43m=\u001b[39;49m\u001b[43mextra_body\u001b[49m\u001b[43m,\u001b[49m\n\u001b[0;32m    121\u001b[0m \u001b[43m        \u001b[49m\u001b[43mtimeout\u001b[49m\u001b[38;5;241;43m=\u001b[39;49m\u001b[43mtimeout\u001b[49m\u001b[43m,\u001b[49m\n\u001b[0;32m    122\u001b[0m \u001b[43m        \u001b[49m\u001b[43mpost_parser\u001b[49m\u001b[38;5;241;43m=\u001b[39;49m\u001b[43mparser\u001b[49m\u001b[43m,\u001b[49m\n\u001b[0;32m    123\u001b[0m \u001b[43m    \u001b[49m\u001b[43m)\u001b[49m\u001b[43m,\u001b[49m\n\u001b[0;32m    124\u001b[0m \u001b[43m    \u001b[49m\u001b[43mcast_to\u001b[49m\u001b[38;5;241;43m=\u001b[39;49m\u001b[43mCreateEmbeddingResponse\u001b[49m\u001b[43m,\u001b[49m\n\u001b[0;32m    125\u001b[0m \u001b[43m\u001b[49m\u001b[43m)\u001b[49m\n",
      "File \u001b[1;32mc:\\Users\\pc\\anaconda3\\envs\\Quiz\\lib\\site-packages\\openai\\_base_client.py:1261\u001b[0m, in \u001b[0;36mSyncAPIClient.post\u001b[1;34m(self, path, cast_to, body, options, files, stream, stream_cls)\u001b[0m\n\u001b[0;32m   1247\u001b[0m \u001b[38;5;28;01mdef\u001b[39;00m \u001b[38;5;21mpost\u001b[39m(\n\u001b[0;32m   1248\u001b[0m     \u001b[38;5;28mself\u001b[39m,\n\u001b[0;32m   1249\u001b[0m     path: \u001b[38;5;28mstr\u001b[39m,\n\u001b[1;32m   (...)\u001b[0m\n\u001b[0;32m   1256\u001b[0m     stream_cls: \u001b[38;5;28mtype\u001b[39m[_StreamT] \u001b[38;5;241m|\u001b[39m \u001b[38;5;28;01mNone\u001b[39;00m \u001b[38;5;241m=\u001b[39m \u001b[38;5;28;01mNone\u001b[39;00m,\n\u001b[0;32m   1257\u001b[0m ) \u001b[38;5;241m-\u001b[39m\u001b[38;5;241m>\u001b[39m ResponseT \u001b[38;5;241m|\u001b[39m _StreamT:\n\u001b[0;32m   1258\u001b[0m     opts \u001b[38;5;241m=\u001b[39m FinalRequestOptions\u001b[38;5;241m.\u001b[39mconstruct(\n\u001b[0;32m   1259\u001b[0m         method\u001b[38;5;241m=\u001b[39m\u001b[38;5;124m\"\u001b[39m\u001b[38;5;124mpost\u001b[39m\u001b[38;5;124m\"\u001b[39m, url\u001b[38;5;241m=\u001b[39mpath, json_data\u001b[38;5;241m=\u001b[39mbody, files\u001b[38;5;241m=\u001b[39mto_httpx_files(files), \u001b[38;5;241m*\u001b[39m\u001b[38;5;241m*\u001b[39moptions\n\u001b[0;32m   1260\u001b[0m     )\n\u001b[1;32m-> 1261\u001b[0m     \u001b[38;5;28;01mreturn\u001b[39;00m cast(ResponseT, \u001b[38;5;28;43mself\u001b[39;49m\u001b[38;5;241;43m.\u001b[39;49m\u001b[43mrequest\u001b[49m\u001b[43m(\u001b[49m\u001b[43mcast_to\u001b[49m\u001b[43m,\u001b[49m\u001b[43m \u001b[49m\u001b[43mopts\u001b[49m\u001b[43m,\u001b[49m\u001b[43m \u001b[49m\u001b[43mstream\u001b[49m\u001b[38;5;241;43m=\u001b[39;49m\u001b[43mstream\u001b[49m\u001b[43m,\u001b[49m\u001b[43m \u001b[49m\u001b[43mstream_cls\u001b[49m\u001b[38;5;241;43m=\u001b[39;49m\u001b[43mstream_cls\u001b[49m\u001b[43m)\u001b[49m)\n",
      "File \u001b[1;32mc:\\Users\\pc\\anaconda3\\envs\\Quiz\\lib\\site-packages\\openai\\_base_client.py:942\u001b[0m, in \u001b[0;36mSyncAPIClient.request\u001b[1;34m(self, cast_to, options, remaining_retries, stream, stream_cls)\u001b[0m\n\u001b[0;32m    933\u001b[0m \u001b[38;5;28;01mdef\u001b[39;00m \u001b[38;5;21mrequest\u001b[39m(\n\u001b[0;32m    934\u001b[0m     \u001b[38;5;28mself\u001b[39m,\n\u001b[0;32m    935\u001b[0m     cast_to: Type[ResponseT],\n\u001b[1;32m   (...)\u001b[0m\n\u001b[0;32m    940\u001b[0m     stream_cls: \u001b[38;5;28mtype\u001b[39m[_StreamT] \u001b[38;5;241m|\u001b[39m \u001b[38;5;28;01mNone\u001b[39;00m \u001b[38;5;241m=\u001b[39m \u001b[38;5;28;01mNone\u001b[39;00m,\n\u001b[0;32m    941\u001b[0m ) \u001b[38;5;241m-\u001b[39m\u001b[38;5;241m>\u001b[39m ResponseT \u001b[38;5;241m|\u001b[39m _StreamT:\n\u001b[1;32m--> 942\u001b[0m     \u001b[38;5;28;01mreturn\u001b[39;00m \u001b[38;5;28;43mself\u001b[39;49m\u001b[38;5;241;43m.\u001b[39;49m\u001b[43m_request\u001b[49m\u001b[43m(\u001b[49m\n\u001b[0;32m    943\u001b[0m \u001b[43m        \u001b[49m\u001b[43mcast_to\u001b[49m\u001b[38;5;241;43m=\u001b[39;49m\u001b[43mcast_to\u001b[49m\u001b[43m,\u001b[49m\n\u001b[0;32m    944\u001b[0m \u001b[43m        \u001b[49m\u001b[43moptions\u001b[49m\u001b[38;5;241;43m=\u001b[39;49m\u001b[43moptions\u001b[49m\u001b[43m,\u001b[49m\n\u001b[0;32m    945\u001b[0m \u001b[43m        \u001b[49m\u001b[43mstream\u001b[49m\u001b[38;5;241;43m=\u001b[39;49m\u001b[43mstream\u001b[49m\u001b[43m,\u001b[49m\n\u001b[0;32m    946\u001b[0m \u001b[43m        \u001b[49m\u001b[43mstream_cls\u001b[49m\u001b[38;5;241;43m=\u001b[39;49m\u001b[43mstream_cls\u001b[49m\u001b[43m,\u001b[49m\n\u001b[0;32m    947\u001b[0m \u001b[43m        \u001b[49m\u001b[43mremaining_retries\u001b[49m\u001b[38;5;241;43m=\u001b[39;49m\u001b[43mremaining_retries\u001b[49m\u001b[43m,\u001b[49m\n\u001b[0;32m    948\u001b[0m \u001b[43m    \u001b[49m\u001b[43m)\u001b[49m\n",
      "File \u001b[1;32mc:\\Users\\pc\\anaconda3\\envs\\Quiz\\lib\\site-packages\\openai\\_base_client.py:1041\u001b[0m, in \u001b[0;36mSyncAPIClient._request\u001b[1;34m(self, cast_to, options, remaining_retries, stream, stream_cls)\u001b[0m\n\u001b[0;32m   1038\u001b[0m         err\u001b[38;5;241m.\u001b[39mresponse\u001b[38;5;241m.\u001b[39mread()\n\u001b[0;32m   1040\u001b[0m     log\u001b[38;5;241m.\u001b[39mdebug(\u001b[38;5;124m\"\u001b[39m\u001b[38;5;124mRe-raising status error\u001b[39m\u001b[38;5;124m\"\u001b[39m)\n\u001b[1;32m-> 1041\u001b[0m     \u001b[38;5;28;01mraise\u001b[39;00m \u001b[38;5;28mself\u001b[39m\u001b[38;5;241m.\u001b[39m_make_status_error_from_response(err\u001b[38;5;241m.\u001b[39mresponse) \u001b[38;5;28;01mfrom\u001b[39;00m \u001b[38;5;28;01mNone\u001b[39;00m\n\u001b[0;32m   1043\u001b[0m \u001b[38;5;28;01mreturn\u001b[39;00m \u001b[38;5;28mself\u001b[39m\u001b[38;5;241m.\u001b[39m_process_response(\n\u001b[0;32m   1044\u001b[0m     cast_to\u001b[38;5;241m=\u001b[39mcast_to,\n\u001b[0;32m   1045\u001b[0m     options\u001b[38;5;241m=\u001b[39moptions,\n\u001b[1;32m   (...)\u001b[0m\n\u001b[0;32m   1048\u001b[0m     stream_cls\u001b[38;5;241m=\u001b[39mstream_cls,\n\u001b[0;32m   1049\u001b[0m )\n",
      "\u001b[1;31mAuthenticationError\u001b[0m: Error code: 401 - {'error': {'message': 'Incorrect API key provided: sk-Ps8cR***************************************VbAk. You can find your API key at https://platform.openai.com/account/api-keys.', 'type': 'invalid_request_error', 'param': None, 'code': 'invalid_api_key'}}"
     ]
    }
   ],
   "source": [
    "# Answer each question and save to a file\n",
    "for question in ques_list:\n",
    "    print(\"Question: \", question)\n",
    "    answer = answer_generation_chain.run(question)\n",
    "    print(\"Answer: \", answer)\n",
    "    print(\"--------------------------------------------------\\\\n\\\\n\")\n",
    "    # Save answer to file\n",
    "    with open(\"answers.txt\", \"a\") as f:\n",
    "        f.write(\"Question: \" + question + \"\\\\n\")\n",
    "        f.write(\"Answer: \" + answer + \"\\\\n\")\n",
    "        f.write(\"--------------------------------------------------\\\\n\\\\n\")"
   ]
  }
 ],
 "metadata": {
  "kernelspec": {
   "display_name": "Quiz",
   "language": "python",
   "name": "python3"
  },
  "language_info": {
   "codemirror_mode": {
    "name": "ipython",
    "version": 3
   },
   "file_extension": ".py",
   "mimetype": "text/x-python",
   "name": "python",
   "nbconvert_exporter": "python",
   "pygments_lexer": "ipython3",
   "version": "3.8.19"
  }
 },
 "nbformat": 4,
 "nbformat_minor": 2
}
